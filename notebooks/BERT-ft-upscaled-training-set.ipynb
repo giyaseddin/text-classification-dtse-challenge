{
 "cells": [
  {
   "cell_type": "markdown",
   "metadata": {
    "id": "kLB3I4FKZ5Lr"
   },
   "source": [
    "# Fine-tuning BERT for multi-label text classification\n",
    "\n",
    "In this notebook, we are going to fine-tune BERT to predict multiple labels for a given piece of text. \n"
   ]
  },
  {
   "cell_type": "markdown",
   "metadata": {
    "id": "bIH9NP0MZ6-O"
   },
   "source": [
    "## Load dataset\n",
    "\n",
    "Next, let's load our processed **balanced** dataset to address the class imbalance in the raw dataset.\n",
    "\n",
    "For this experiment, I use datasets as it is more compatible with with loading the data while fine-tuning the BERT-like models in the huggingface ecosystem:   \n",
    "\n",
    "* Load the created canonical datasets splits as dataframe, \n",
    "* next, cast the dataset to a huggingface dataset object.\n"
   ]
  },
  {
   "cell_type": "code",
   "execution_count": 2,
   "metadata": {
    "colab": {
     "base_uri": "https://localhost:8080/",
     "height": 86,
     "referenced_widgets": [
      "9a1aa9f2cc29473f9f8e5459d2641e76",
      "308fa6a7348140ec981a8d6c7d31f346",
      "8bc92587e35443488445e7521fbd0a13",
      "091f8220f33241f288faa0612853585f",
      "1045bb16e3694410898a73cf1b848917",
      "cb95e545fbdd4e99903bf634df694c9f",
      "5080d322a8034924b652b379c04667ed",
      "8b1899a0c4b144d7a5e6599f8afb8b65",
      "6111a73e684a47769bda7183a836ee91",
      "cd3570ddf67541d7818d97e236c54e54",
      "bbba60f793c14100934a268063f63d26"
     ]
    },
    "id": "sd1LiXGjZ420",
    "outputId": "1b5783cd-0e4e-4c92-c67c-57b9288f2381"
   },
   "outputs": [
    {
     "name": "stderr",
     "output_type": "stream",
     "text": [
      "/home/giyaseddin/miniconda3/envs/text-classification-dtse-challenge/lib/python3.11/site-packages/tqdm/auto.py:21: TqdmWarning: IProgress not found. Please update jupyter and ipywidgets. See https://ipywidgets.readthedocs.io/en/stable/user_install.html\n",
      "  from .autonotebook import tqdm as notebook_tqdm\n"
     ]
    },
    {
     "data": {
      "text/plain": [
       "DatasetDict({\n",
       "    train: Dataset({\n",
       "        features: ['clean_content', 'cyber_label', 'environmental_issue'],\n",
       "        num_rows: 2904\n",
       "    })\n",
       "    valid: Dataset({\n",
       "        features: ['clean_content', 'cyber_label', 'environmental_issue'],\n",
       "        num_rows: 252\n",
       "    })\n",
       "})"
      ]
     },
     "execution_count": 2,
     "metadata": {},
     "output_type": "execute_result"
    }
   ],
   "source": [
    "import pandas as pd\n",
    "from datasets import Dataset, DatasetDict\n",
    "\n",
    "train_df = pd.read_csv('../data/processed/clean_train_upsampled.csv')\n",
    "valid_df = pd.read_csv('../data/processed/clean_valid.csv')\n",
    "\n",
    "\n",
    "# dataset = load_dataset(\"ethos\", \"multilabel\")\n",
    "\n",
    "ds_dict = {'train' : Dataset.from_pandas(train_df),\n",
    "           'valid' : Dataset.from_pandas(valid_df)}\n",
    "\n",
    "dataset = DatasetDict(ds_dict)\n",
    "dataset"
   ]
  },
  {
   "cell_type": "markdown",
   "metadata": {
    "id": "QCL02vQgxYTO"
   },
   "source": [
    "As we can see, the dataset contains 3 splits: one for training, one for validation and one for testing."
   ]
  },
  {
   "cell_type": "markdown",
   "metadata": {
    "id": "PgS0wMWExcqP"
   },
   "source": [
    "Let's check the first example of the training split:"
   ]
  },
  {
   "cell_type": "code",
   "execution_count": 4,
   "metadata": {
    "colab": {
     "base_uri": "https://localhost:8080/"
    },
    "id": "unjuTtKUjZI3",
    "outputId": "6f1e5051-8272-40f9-ced8-ba17a105e904"
   },
   "outputs": [
    {
     "data": {
      "text/plain": [
       "{'clean_content': 'Additionally the risk of natural catastrophes, solar\\nstorms or cyber attacks could impact the infrastructure, (incl. satellites, GPS and communications systems).\\nAlso energy transition may impact stability of energy supply. A smoothly functioning digital infrastructure is\\nbecoming increasingly important, especially in times of remote home office working.\\n2008 & 2011\\nCyber Risks The volume and sophistication of malicious cyber activity has increased substantially, and there are growing\\nconcerns regarding the security of proprietary corporate data and critical industrial control systems.\\nCloud computing poses elevated risks due to increased concentration and accumulations. Operational\\nrisks exist for corporations and could also lead to large property losses with high and previously unknown\\naccumulation potential if industrial facilities were simultaneously attacked. The growing request for personal\\nidentification and authentication, the use of biometric identifiers and the multiple uses of identifiers will likely\\nincrease the risk of identity fraud and even theft.\\nDigital\\nCurrencies\\nWidespread adoption of cryptocurrencies and Decentralized finance (DeFi), a platform for banking functions\\nleveraging the blockchain technology, has implications for data protection, anti-money laundering, financial\\nstability, financial inclusion, cyber threats and climate risks (for instance, bitcoin \"mining\" still largely requires\\nnon-renewable energy sources).',\n",
       " 'cyber_label': 1,\n",
       " 'environmental_issue': 1}"
      ]
     },
     "execution_count": 4,
     "metadata": {},
     "output_type": "execute_result"
    }
   ],
   "source": [
    "example = dataset['train'][0]\n",
    "example"
   ]
  },
  {
   "cell_type": "markdown",
   "metadata": {
    "id": "6DV0Rtetxgd4"
   },
   "source": [
    "Let's create a list that contains the labels, as well as 2 dictionaries that map labels to integers and back."
   ]
  },
  {
   "cell_type": "code",
   "execution_count": 5,
   "metadata": {
    "colab": {
     "base_uri": "https://localhost:8080/"
    },
    "id": "e5vZhQpvkE8s",
    "outputId": "5d513b30-f209-492f-c6ab-245d64a67d40"
   },
   "outputs": [
    {
     "data": {
      "text/plain": [
       "['cyber_label', 'environmental_issue']"
      ]
     },
     "execution_count": 5,
     "metadata": {},
     "output_type": "execute_result"
    }
   ],
   "source": [
    "labels = [label for label in dataset['train'].features.keys() if label not in ['clean_content']]\n",
    "id2label = {idx:label for idx, label in enumerate(labels)}\n",
    "label2id = {label:idx for idx, label in enumerate(labels)}\n",
    "labels"
   ]
  },
  {
   "cell_type": "markdown",
   "metadata": {
    "id": "nJ3Teyjmank2"
   },
   "source": [
    "## Preprocess data\n",
    "\n",
    "As models like BERT don't expect text as direct input, but rather `input_ids`, etc., I tokenize the text using the tokenizer. Here I'm using the `AutoTokenizer` API, which will automatically load the appropriate tokenizer based on the checkpoint on the hub.\n",
    "\n",
    "What's a bit tricky is that we also need to provide labels to the model. For multi-label text classification, this is a matrix of shape (batch_size, num_labels). Also important: this should be a tensor of floats rather than integers, otherwise PyTorch' `BCEWithLogitsLoss` (which the model uses) will complain, as explained [here](https://discuss.pytorch.org/t/multi-label-binary-classification-result-type-float-cant-be-cast-to-the-desired-output-type-long/117915/3)."
   ]
  },
  {
   "cell_type": "code",
   "execution_count": 6,
   "metadata": {
    "id": "AFWlSsbZaRLc"
   },
   "outputs": [],
   "source": [
    "from transformers import AutoTokenizer\n",
    "import numpy as np\n",
    "\n",
    "model_id = \"distilbert/distilbert-base-uncased\"\n",
    "\n",
    "tokenizer = AutoTokenizer.from_pretrained(model_id)\n",
    "\n",
    "def preprocess_data(examples):\n",
    "  # take a batch of texts\n",
    "  text = examples[\"clean_content\"]\n",
    "  # encode them\n",
    "  encoding = tokenizer(text, padding=\"max_length\", truncation=True, max_length=128)\n",
    "  # add labels\n",
    "  labels_batch = {k: examples[k] for k in examples.keys() if k in labels}\n",
    "  # create numpy array of shape (batch_size, num_labels)\n",
    "  labels_matrix = np.zeros((len(text), len(labels)))\n",
    "  # fill numpy array\n",
    "  print(labels)\n",
    "  for idx, label in enumerate(labels):\n",
    "    labels_matrix[:, idx] = labels_batch[label]\n",
    "\n",
    "  encoding[\"labels\"] = labels_matrix.tolist()\n",
    "\n",
    "  return encoding"
   ]
  },
  {
   "cell_type": "markdown",
   "metadata": {},
   "source": [
    "Let's apply this on pre-processing function on our dataset using `map` method.."
   ]
  },
  {
   "cell_type": "code",
   "execution_count": 7,
   "metadata": {
    "colab": {
     "base_uri": "https://localhost:8080/"
    },
    "id": "i4ENBTdulBEI",
    "outputId": "02554a1f-4961-461a-bf29-555b8debeabf"
   },
   "outputs": [
    {
     "name": "stderr",
     "output_type": "stream",
     "text": [
      "Map: 100%|███████████████████████████████████████████████████████████████████████████████████████████████████████████████████████████| 2904/2904 [00:00<00:00, 11561.43 examples/s]\n"
     ]
    },
    {
     "name": "stdout",
     "output_type": "stream",
     "text": [
      "['cyber_label', 'environmental_issue']\n",
      "['cyber_label', 'environmental_issue']\n",
      "['cyber_label', 'environmental_issue']\n"
     ]
    },
    {
     "name": "stderr",
     "output_type": "stream",
     "text": [
      "Map:   0%|                                                                                                                                          | 0/252 [00:00<?, ? examples/s]"
     ]
    },
    {
     "name": "stdout",
     "output_type": "stream",
     "text": [
      "['cyber_label', 'environmental_issue']\n"
     ]
    },
    {
     "name": "stderr",
     "output_type": "stream",
     "text": [
      "Map: 100%|█████████████████████████████████████████████████████████████████████████████████████████████████████████████████████████████| 252/252 [00:00<00:00, 10790.75 examples/s]\n"
     ]
    }
   ],
   "source": [
    "encoded_dataset = dataset.map(preprocess_data, batched=True, remove_columns=dataset['train'].column_names)"
   ]
  },
  {
   "cell_type": "code",
   "execution_count": 8,
   "metadata": {
    "colab": {
     "base_uri": "https://localhost:8080/"
    },
    "id": "0enAb0W9o25W",
    "outputId": "55bc5ba6-d169-49c6-f562-bb7ea4143866"
   },
   "outputs": [
    {
     "name": "stdout",
     "output_type": "stream",
     "text": [
      "dict_keys(['input_ids', 'attention_mask', 'labels'])\n"
     ]
    }
   ],
   "source": [
    "example = encoded_dataset['train'][0]\n",
    "print(example.keys())"
   ]
  },
  {
   "cell_type": "code",
   "execution_count": 9,
   "metadata": {
    "colab": {
     "base_uri": "https://localhost:8080/",
     "height": 137
    },
    "id": "D0McCtJ8HRJY",
    "outputId": "82fb0336-51a3-40ad-ebc0-65eeb7cf4b6c"
   },
   "outputs": [
    {
     "data": {
      "text/plain": [
       "'[CLS] additionally the risk of natural catastrophes, solar storms or cyber attacks could impact the infrastructure, ( incl. satellites, gps and communications systems ). also energy transition may impact stability of energy supply. a smoothly functioning digital infrastructure is becoming increasingly important, especially in times of remote home office working. 2008 & 2011 cyber risks the volume and sophistication of malicious cyber activity has increased substantially, and there are growing concerns regarding the security of proprietary corporate data and critical industrial control systems. cloud computing poses elevated risks due to increased concentration and accumulations. operational risks exist for corporations and could also lead to large property losses with high and [SEP]'"
      ]
     },
     "execution_count": 9,
     "metadata": {},
     "output_type": "execute_result"
    }
   ],
   "source": [
    "tokenizer.decode(example['input_ids'])"
   ]
  },
  {
   "cell_type": "code",
   "execution_count": 10,
   "metadata": {
    "colab": {
     "base_uri": "https://localhost:8080/"
    },
    "id": "VdIvj6WjHeZQ",
    "outputId": "418c14d2-cca3-44e9-d0a2-6ad4ca7a007c"
   },
   "outputs": [
    {
     "data": {
      "text/plain": [
       "[1.0, 1.0]"
      ]
     },
     "execution_count": 10,
     "metadata": {},
     "output_type": "execute_result"
    }
   ],
   "source": [
    "example['labels']  # actual labels of the example"
   ]
  },
  {
   "cell_type": "code",
   "execution_count": 11,
   "metadata": {
    "colab": {
     "base_uri": "https://localhost:8080/"
    },
    "id": "q4Dx95t2o6N9",
    "outputId": "3ce6c923-0b45-4743-bc4b-7771d088b03e"
   },
   "outputs": [
    {
     "data": {
      "text/plain": [
       "['cyber_label', 'environmental_issue']"
      ]
     },
     "execution_count": 11,
     "metadata": {},
     "output_type": "execute_result"
    }
   ],
   "source": [
    "[id2label[idx] for idx, label in enumerate(example['labels']) if label == 1.0]  # names of the labels if class value is 1"
   ]
  },
  {
   "cell_type": "markdown",
   "metadata": {
    "id": "HgpKXDfvKBxn"
   },
   "source": [
    "Finally, we set the format of our data to PyTorch tensors. This will turn the training, validation and test sets into standard PyTorch [datasets](https://pytorch.org/docs/stable/data.html)."
   ]
  },
  {
   "cell_type": "code",
   "execution_count": 12,
   "metadata": {
    "id": "Lk6Cq9duKBkA"
   },
   "outputs": [],
   "source": [
    "encoded_dataset.set_format(\"torch\")"
   ]
  },
  {
   "cell_type": "markdown",
   "metadata": {
    "id": "w5qSmCgWefWs"
   },
   "source": [
    "## Define model\n",
    "\n",
    "Here we define a model that includes a pre-trained base (i.e. the weights from bert-base-uncased or other optimized checkpoints like distilbert-base-uncased) are loaded, with a random initialized classification head (linear layer) on top. This head is going to be fine-tuned, together with the pre-trained base on our labeled dataset.\n",
    "\n",
    "This is also printed by the warning.\n",
    "\n",
    "We set the `problem_type` to be \"multi_label_classification\", as this will make sure the appropriate loss function is used (namely [`BCEWithLogitsLoss`](https://pytorch.org/docs/stable/generated/torch.nn.BCEWithLogitsLoss.html)). We also make sure the output layer has `len(labels)` output neurons, and we set the id2label and label2id mappings."
   ]
  },
  {
   "cell_type": "code",
   "execution_count": 13,
   "metadata": {
    "colab": {
     "base_uri": "https://localhost:8080/"
    },
    "id": "6XPL1Z_RegBF",
    "outputId": "22994300-8c93-421e-faa4-678d6cc14aab"
   },
   "outputs": [
    {
     "name": "stderr",
     "output_type": "stream",
     "text": [
      "Some weights of DistilBertForSequenceClassification were not initialized from the model checkpoint at distilbert/distilbert-base-uncased and are newly initialized: ['classifier.bias', 'classifier.weight', 'pre_classifier.bias', 'pre_classifier.weight']\n",
      "You should probably TRAIN this model on a down-stream task to be able to use it for predictions and inference.\n"
     ]
    }
   ],
   "source": [
    "from transformers import AutoModelForSequenceClassification\n",
    "\n",
    "model = AutoModelForSequenceClassification.from_pretrained(\n",
    "   model_id,\n",
    "   problem_type=\"multi_label_classification\",\n",
    "   num_labels=len(labels),\n",
    "   id2label=id2label,\n",
    "   label2id=label2id,\n",
    ")"
   ]
  },
  {
   "cell_type": "markdown",
   "metadata": {
    "id": "mjJGEXShp7te"
   },
   "source": [
    "## Train the model!\n",
    "\n",
    "We are going to train the model using HuggingFace's Trainer API. This requires us to define 2 things:\n",
    "\n",
    "* `TrainingArguments`, which specify training hyperparameters. All options can be found in the [docs](https://huggingface.co/transformers/main_classes/trainer.html#trainingarguments). Below, we for example specify that we want to evaluate after every epoch of training, we would like to save the model every epoch, we set the learning rate, the batch size to use for training/evaluation, how many epochs to train for, and so on.\n",
    "* a `Trainer` object (docs can be found [here](https://huggingface.co/transformers/main_classes/trainer.html#id1))."
   ]
  },
  {
   "cell_type": "code",
   "execution_count": 14,
   "metadata": {
    "id": "K5a8_vIKqr7P"
   },
   "outputs": [],
   "source": [
    "batch_size = 4\n",
    "metric_name = \"f1\""
   ]
  },
  {
   "cell_type": "code",
   "execution_count": 15,
   "metadata": {
    "id": "dR2GmpvDqbuZ"
   },
   "outputs": [],
   "source": [
    "from transformers import TrainingArguments, Trainer\n",
    "\n",
    "args = TrainingArguments(\n",
    "    f\"distilbert-finetuned-MLC-upsampled\",\n",
    "    evaluation_strategy = \"epoch\",\n",
    "    save_strategy = \"epoch\",\n",
    "    learning_rate=3e-5,\n",
    "    per_device_train_batch_size=batch_size,\n",
    "    per_device_eval_batch_size=batch_size,\n",
    "    num_train_epochs=20,\n",
    "    weight_decay=0.01,\n",
    "    load_best_model_at_end=True,\n",
    "    metric_for_best_model=metric_name,\n",
    "    #push_to_hub=True,\n",
    ")"
   ]
  },
  {
   "cell_type": "markdown",
   "metadata": {
    "id": "1_v2fPFFJ3-v"
   },
   "source": [
    "We are also going to compute metrics while training. For this, we need to define a `compute_metrics` function, that returns a dictionary with the desired metric values.\n",
    "\n",
    "I also added the classification reports for each of the classes for better visibility on how well the model is progressing."
   ]
  },
  {
   "cell_type": "code",
   "execution_count": 16,
   "metadata": {
    "id": "797b2WHJqUgZ"
   },
   "outputs": [],
   "source": [
    "from sklearn.metrics import f1_score, roc_auc_score, accuracy_score, classification_report\n",
    "from transformers import EvalPrediction\n",
    "import torch\n",
    "\n",
    "# source: https://jesusleal.io/2021/04/21/Longformer-multilabel-classification/\n",
    "def multi_label_metrics(predictions, labels, threshold=0.5):\n",
    "    # first, apply sigmoid on predictions which are of shape (batch_size, num_labels)\n",
    "    sigmoid = torch.nn.Sigmoid()\n",
    "    probs = sigmoid(torch.Tensor(predictions))\n",
    "    # next, use threshold to turn them into integer predictions\n",
    "    y_pred = np.zeros(probs.shape)\n",
    "    y_pred[np.where(probs >= threshold)] = 1\n",
    "    # finally, compute metrics\n",
    "    y_true = labels\n",
    "    f1_micro_average = f1_score(y_true=y_true, y_pred=y_pred, average='micro')\n",
    "    roc_auc = roc_auc_score(y_true, y_pred, average = 'micro')\n",
    "    accuracy = accuracy_score(y_true, y_pred)\n",
    "    # return as dictionary\n",
    "    metrics = {'f1': f1_micro_average,\n",
    "               'roc_auc': roc_auc,\n",
    "               'accuracy': accuracy}\n",
    "\n",
    "    # Compute metrics for each label\n",
    "    for i in range(y_true.shape[1]):  # Assuming labels are in the columns\n",
    "        metrics[f'f1_label_{id2label[i]}'] = f1_score(y_true[:, i], y_pred[:, i], average='binary', zero_division=0)\n",
    "        metrics[f'roc_auc_label_{id2label[i]}'] = roc_auc_score(y_true[:, i], y_pred[:, i])\n",
    "        report = classification_report(y_true[:, i], y_pred[:, i], output_dict=True, zero_division=0)\n",
    "        metrics[f'classification_report_label_{id2label[i]}'] = report\n",
    "\n",
    "    return metrics\n",
    "\n",
    "def compute_metrics(p: EvalPrediction):\n",
    "    preds = p.predictions[0] if isinstance(p.predictions,\n",
    "            tuple) else p.predictions\n",
    "    result = multi_label_metrics(\n",
    "        predictions=preds,\n",
    "        labels=p.label_ids)\n",
    "    return result"
   ]
  },
  {
   "cell_type": "markdown",
   "metadata": {
    "id": "fxNo4_TsvzDm"
   },
   "source": [
    "Let's verify a batch as well as a forward pass:"
   ]
  },
  {
   "cell_type": "code",
   "execution_count": 17,
   "metadata": {
    "colab": {
     "base_uri": "https://localhost:8080/",
     "height": 35
    },
    "id": "IlOgGiojuWwG",
    "outputId": "cd0b2c99-b520-468d-8ffc-c36211b7820a"
   },
   "outputs": [
    {
     "data": {
      "text/plain": [
       "'torch.FloatTensor'"
      ]
     },
     "execution_count": 17,
     "metadata": {},
     "output_type": "execute_result"
    }
   ],
   "source": [
    "encoded_dataset['train'][0]['labels'].type()"
   ]
  },
  {
   "cell_type": "code",
   "execution_count": 18,
   "metadata": {
    "colab": {
     "base_uri": "https://localhost:8080/"
    },
    "id": "Y41Kre_jvD7x",
    "outputId": "b6ca888b-6371-40fb-ab83-3dc24d28320a"
   },
   "outputs": [
    {
     "data": {
      "text/plain": [
       "tensor([  101,  5678,  1996,  3891,  1997,  3019, 25539,  2015,  1010,  5943,\n",
       "        12642,  2030, 16941,  4491,  2071,  4254,  1996,  6502,  1010,  1006,\n",
       "         4297,  2140,  1012, 14549,  1010, 14658,  1998,  4806,  3001,  1007,\n",
       "         1012,  2036,  2943,  6653,  2089,  4254,  9211,  1997,  2943,  4425,\n",
       "         1012,  1037, 15299, 12285,  3617,  6502,  2003,  3352,  6233,  2590,\n",
       "         1010,  2926,  1999,  2335,  1997,  6556,  2188,  2436,  2551,  1012,\n",
       "         2263,  1004,  2249, 16941, 10831,  1996,  3872,  1998,  2061, 21850,\n",
       "        10074,  3370,  1997, 24391, 16941,  4023,  2038,  3445, 12381,  1010,\n",
       "         1998,  2045,  2024,  3652,  5936,  4953,  1996,  3036,  1997, 16350,\n",
       "         5971,  2951,  1998,  4187,  3919,  2491,  3001,  1012,  6112,  9798,\n",
       "        22382,  8319, 10831,  2349,  2000,  3445,  6693,  1998, 20299,  2015,\n",
       "         1012,  6515, 10831,  4839,  2005, 11578,  1998,  2071,  2036,  2599,\n",
       "         2000,  2312,  3200,  6409,  2007,  2152,  1998,   102])"
      ]
     },
     "execution_count": 18,
     "metadata": {},
     "output_type": "execute_result"
    }
   ],
   "source": [
    "encoded_dataset['train']['input_ids'][0]"
   ]
  },
  {
   "cell_type": "code",
   "execution_count": 19,
   "metadata": {
    "colab": {
     "base_uri": "https://localhost:8080/"
    },
    "id": "sxWcnZ8ku12V",
    "outputId": "26522911-c3cd-466a-ae2d-d81d23003c23"
   },
   "outputs": [
    {
     "data": {
      "text/plain": [
       "SequenceClassifierOutput(loss=tensor(0.6675, grad_fn=<BinaryCrossEntropyWithLogitsBackward0>), logits=tensor([[0.0291, 0.0749]], grad_fn=<AddmmBackward0>), hidden_states=None, attentions=None)"
      ]
     },
     "execution_count": 19,
     "metadata": {},
     "output_type": "execute_result"
    }
   ],
   "source": [
    "# Making sure forward pass works fine\n",
    "outputs = model(input_ids=encoded_dataset['train']['input_ids'][0].unsqueeze(0), labels=encoded_dataset['train'][0]['labels'].unsqueeze(0))\n",
    "outputs"
   ]
  },
  {
   "cell_type": "markdown",
   "metadata": {
    "id": "f-X2brZcv0X6"
   },
   "source": [
    "Let's start training!"
   ]
  },
  {
   "cell_type": "code",
   "execution_count": 20,
   "metadata": {
    "id": "chq_3nUz73ib"
   },
   "outputs": [
    {
     "name": "stderr",
     "output_type": "stream",
     "text": [
      "/home/giyaseddin/miniconda3/envs/text-classification-dtse-challenge/lib/python3.11/site-packages/accelerate/accelerator.py:436: FutureWarning: Passing the following arguments to `Accelerator` is deprecated and will be removed in version 1.0 of Accelerate: dict_keys(['dispatch_batches', 'split_batches', 'even_batches', 'use_seedable_sampler']). Please pass an `accelerate.DataLoaderConfiguration` instead: \n",
      "dataloader_config = DataLoaderConfiguration(dispatch_batches=None, split_batches=False, even_batches=True, use_seedable_sampler=True)\n",
      "  warnings.warn(\n"
     ]
    }
   ],
   "source": [
    "trainer = Trainer(\n",
    "    model,\n",
    "    args,\n",
    "    train_dataset=encoded_dataset[\"train\"],\n",
    "    eval_dataset=encoded_dataset[\"valid\"],\n",
    "    tokenizer=tokenizer,\n",
    "    compute_metrics=compute_metrics\n",
    ")"
   ]
  },
  {
   "cell_type": "code",
   "execution_count": 21,
   "metadata": {
    "colab": {
     "base_uri": "https://localhost:8080/",
     "height": 1000
    },
    "id": "KXmFds8js6P8",
    "outputId": "66ebb2ab-f93f-48aa-a4dc-36f55f2f8559"
   },
   "outputs": [
    {
     "data": {
      "text/html": [
       "\n",
       "    <div>\n",
       "      \n",
       "      <progress value='14520' max='14520' style='width:300px; height:20px; vertical-align: middle;'></progress>\n",
       "      [14520/14520 19:09, Epoch 20/20]\n",
       "    </div>\n",
       "    <table border=\"1\" class=\"dataframe\">\n",
       "  <thead>\n",
       " <tr style=\"text-align: left;\">\n",
       "      <th>Epoch</th>\n",
       "      <th>Training Loss</th>\n",
       "      <th>Validation Loss</th>\n",
       "      <th>F1</th>\n",
       "      <th>Roc Auc</th>\n",
       "      <th>Accuracy</th>\n",
       "      <th>F1 Label Cyber Label</th>\n",
       "      <th>Roc Auc Label Cyber Label</th>\n",
       "      <th>Classification Report Label Cyber Label</th>\n",
       "      <th>F1 Label Environmental Issue</th>\n",
       "      <th>Roc Auc Label Environmental Issue</th>\n",
       "      <th>Classification Report Label Environmental Issue</th>\n",
       "    </tr>\n",
       "  </thead>\n",
       "  <tbody>\n",
       "    <tr>\n",
       "      <td>1</td>\n",
       "      <td>0.380700</td>\n",
       "      <td>0.407735</td>\n",
       "      <td>0.598930</td>\n",
       "      <td>0.834533</td>\n",
       "      <td>0.722222</td>\n",
       "      <td>0.500000</td>\n",
       "      <td>0.743429</td>\n",
       "      <td>{'0.0': {'precision': 0.9656652360515021, 'recall': 0.9574468085106383, 'f1-score': 0.9615384615384616, 'support': 235.0}, '1.0': {'precision': 0.47368421052631576, 'recall': 0.5294117647058824, 'f1-score': 0.5, 'support': 17.0}, 'accuracy': 0.9285714285714286, 'macro avg': {'precision': 0.7196747232889089, 'recall': 0.7434292866082604, 'f1-score': 0.7307692307692308, 'support': 252.0}, 'weighted avg': {'precision': 0.9324760398851205, 'recall': 0.9285714285714286, 'f1-score': 0.9304029304029304, 'support': 252.0}}</td>\n",
       "      <td>0.622517</td>\n",
       "      <td>0.821923</td>\n",
       "      <td>{'0.0': {'precision': 0.9673202614379085, 'recall': 0.74, 'f1-score': 0.8385269121813032, 'support': 200.0}, '1.0': {'precision': 0.47474747474747475, 'recall': 0.9038461538461539, 'f1-score': 0.6225165562913907, 'support': 52.0}, 'accuracy': 0.7738095238095238, 'macro avg': {'precision': 0.7210338680926917, 'recall': 0.821923076923077, 'f1-score': 0.7305217342363469, 'support': 252.0}, 'weighted avg': {'precision': 0.8656782578351205, 'recall': 0.7738095238095238, 'f1-score': 0.7939533466802101, 'support': 252.0}}</td>\n",
       "    </tr>\n",
       "    <tr>\n",
       "      <td>2</td>\n",
       "      <td>0.107100</td>\n",
       "      <td>0.404711</td>\n",
       "      <td>0.592593</td>\n",
       "      <td>0.759970</td>\n",
       "      <td>0.789683</td>\n",
       "      <td>0.500000</td>\n",
       "      <td>0.743429</td>\n",
       "      <td>{'0.0': {'precision': 0.9656652360515021, 'recall': 0.9574468085106383, 'f1-score': 0.9615384615384616, 'support': 235.0}, '1.0': {'precision': 0.47368421052631576, 'recall': 0.5294117647058824, 'f1-score': 0.5, 'support': 17.0}, 'accuracy': 0.9285714285714286, 'macro avg': {'precision': 0.7196747232889089, 'recall': 0.7434292866082604, 'f1-score': 0.7307692307692308, 'support': 252.0}, 'weighted avg': {'precision': 0.9324760398851205, 'recall': 0.9285714285714286, 'f1-score': 0.9304029304029304, 'support': 252.0}}</td>\n",
       "      <td>0.626263</td>\n",
       "      <td>0.758077</td>\n",
       "      <td>{'0.0': {'precision': 0.8975609756097561, 'recall': 0.92, 'f1-score': 0.908641975308642, 'support': 200.0}, '1.0': {'precision': 0.6595744680851063, 'recall': 0.5961538461538461, 'f1-score': 0.6262626262626263, 'support': 52.0}, 'accuracy': 0.8531746031746031, 'macro avg': {'precision': 0.7785677218474312, 'recall': 0.7580769230769231, 'f1-score': 0.7674523007856342, 'support': 252.0}, 'weighted avg': {'precision': 0.8484526486602253, 'recall': 0.8531746031746031, 'f1-score': 0.8503732207435912, 'support': 252.0}}</td>\n",
       "    </tr>\n",
       "    <tr>\n",
       "      <td>3</td>\n",
       "      <td>0.048700</td>\n",
       "      <td>0.516696</td>\n",
       "      <td>0.609929</td>\n",
       "      <td>0.778261</td>\n",
       "      <td>0.793651</td>\n",
       "      <td>0.500000</td>\n",
       "      <td>0.766458</td>\n",
       "      <td>{'0.0': {'precision': 0.9694323144104804, 'recall': 0.9446808510638298, 'f1-score': 0.9568965517241379, 'support': 235.0}, '1.0': {'precision': 0.43478260869565216, 'recall': 0.5882352941176471, 'f1-score': 0.5, 'support': 17.0}, 'accuracy': 0.9206349206349206, 'macro avg': {'precision': 0.7021074615530662, 'recall': 0.7664580725907384, 'f1-score': 0.728448275862069, 'support': 252.0}, 'weighted avg': {'precision': 0.9333646755328928, 'recall': 0.9206349206349206, 'f1-score': 0.9260741652983032, 'support': 252.0}}</td>\n",
       "      <td>0.653465</td>\n",
       "      <td>0.777308</td>\n",
       "      <td>{'0.0': {'precision': 0.9064039408866995, 'recall': 0.92, 'f1-score': 0.913151364764268, 'support': 200.0}, '1.0': {'precision': 0.673469387755102, 'recall': 0.6346153846153846, 'f1-score': 0.6534653465346535, 'support': 52.0}, 'accuracy': 0.8611111111111112, 'macro avg': {'precision': 0.7899366643209007, 'recall': 0.7773076923076923, 'f1-score': 0.7833083556494607, 'support': 252.0}, 'weighted avg': {'precision': 0.8583380807166873, 'recall': 0.8611111111111112, 'f1-score': 0.8595653610026015, 'support': 252.0}}</td>\n",
       "    </tr>\n",
       "    <tr>\n",
       "      <td>4</td>\n",
       "      <td>0.025400</td>\n",
       "      <td>0.650661</td>\n",
       "      <td>0.619048</td>\n",
       "      <td>0.822789</td>\n",
       "      <td>0.757937</td>\n",
       "      <td>0.421053</td>\n",
       "      <td>0.707635</td>\n",
       "      <td>{'0.0': {'precision': 0.961038961038961, 'recall': 0.9446808510638298, 'f1-score': 0.9527896995708155, 'support': 235.0}, '1.0': {'precision': 0.38095238095238093, 'recall': 0.47058823529411764, 'f1-score': 0.42105263157894735, 'support': 17.0}, 'accuracy': 0.9126984126984127, 'macro avg': {'precision': 0.670995670995671, 'recall': 0.7076345431789737, 'f1-score': 0.6869211655748815, 'support': 252.0}, 'weighted avg': {'precision': 0.9219061361918505, 'recall': 0.9126984126984127, 'f1-score': 0.9169185481586656, 'support': 252.0}}</td>\n",
       "      <td>0.676923</td>\n",
       "      <td>0.838077</td>\n",
       "      <td>{'0.0': {'precision': 0.9540229885057471, 'recall': 0.83, 'f1-score': 0.8877005347593583, 'support': 200.0}, '1.0': {'precision': 0.5641025641025641, 'recall': 0.8461538461538461, 'f1-score': 0.676923076923077, 'support': 52.0}, 'accuracy': 0.8333333333333334, 'macro avg': {'precision': 0.7590627763041555, 'recall': 0.838076923076923, 'f1-score': 0.7823118058412176, 'support': 252.0}, 'weighted avg': {'precision': 0.8735632183908046, 'recall': 0.8333333333333334, 'f1-score': 0.8442067736185384, 'support': 252.0}}</td>\n",
       "    </tr>\n",
       "    <tr>\n",
       "      <td>5</td>\n",
       "      <td>0.014300</td>\n",
       "      <td>0.836014</td>\n",
       "      <td>0.629834</td>\n",
       "      <td>0.849825</td>\n",
       "      <td>0.742063</td>\n",
       "      <td>0.400000</td>\n",
       "      <td>0.703379</td>\n",
       "      <td>{'0.0': {'precision': 0.9606986899563319, 'recall': 0.9361702127659575, 'f1-score': 0.9482758620689655, 'support': 235.0}, '1.0': {'precision': 0.34782608695652173, 'recall': 0.47058823529411764, 'f1-score': 0.4, 'support': 17.0}, 'accuracy': 0.9047619047619048, 'macro avg': {'precision': 0.6542623884564268, 'recall': 0.7033792240300376, 'f1-score': 0.6741379310344828, 'support': 252.0}, 'weighted avg': {'precision': 0.9193541095952336, 'recall': 0.9047619047619048, 'f1-score': 0.9112889983579638, 'support': 252.0}}</td>\n",
       "      <td>0.695035</td>\n",
       "      <td>0.871154</td>\n",
       "      <td>{'0.0': {'precision': 0.9815950920245399, 'recall': 0.8, 'f1-score': 0.8815426997245179, 'support': 200.0}, '1.0': {'precision': 0.550561797752809, 'recall': 0.9423076923076923, 'f1-score': 0.6950354609929078, 'support': 52.0}, 'accuracy': 0.8293650793650794, 'macro avg': {'precision': 0.7660784448886744, 'recall': 0.8711538461538462, 'f1-score': 0.7882890803587128, 'support': 252.0}, 'weighted avg': {'precision': 0.8926517138414842, 'recall': 0.8293650793650794, 'f1-score': 0.8430570790338683, 'support': 252.0}}</td>\n",
       "    </tr>\n",
       "    <tr>\n",
       "      <td>6</td>\n",
       "      <td>0.013700</td>\n",
       "      <td>0.709693</td>\n",
       "      <td>0.670732</td>\n",
       "      <td>0.852574</td>\n",
       "      <td>0.797619</td>\n",
       "      <td>0.470588</td>\n",
       "      <td>0.716145</td>\n",
       "      <td>{'0.0': {'precision': 0.9617021276595744, 'recall': 0.9617021276595744, 'f1-score': 0.9617021276595744, 'support': 235.0}, '1.0': {'precision': 0.47058823529411764, 'recall': 0.47058823529411764, 'f1-score': 0.47058823529411764, 'support': 17.0}, 'accuracy': 0.9285714285714286, 'macro avg': {'precision': 0.716145181476846, 'recall': 0.716145181476846, 'f1-score': 0.716145181476846, 'support': 252.0}, 'weighted avg': {'precision': 0.9285714285714286, 'recall': 0.9285714285714286, 'f1-score': 0.9285714285714286, 'support': 252.0}}</td>\n",
       "      <td>0.723077</td>\n",
       "      <td>0.874423</td>\n",
       "      <td>{'0.0': {'precision': 0.9712643678160919, 'recall': 0.845, 'f1-score': 0.9037433155080213, 'support': 200.0}, '1.0': {'precision': 0.6025641025641025, 'recall': 0.9038461538461539, 'f1-score': 0.7230769230769231, 'support': 52.0}, 'accuracy': 0.8571428571428571, 'macro avg': {'precision': 0.7869142351900973, 'recall': 0.874423076923077, 'f1-score': 0.8134101192924722, 'support': 252.0}, 'weighted avg': {'precision': 0.895183360700602, 'recall': 0.8571428571428571, 'f1-score': 0.8664629488158899, 'support': 252.0}}</td>\n",
       "    </tr>\n",
       "    <tr>\n",
       "      <td>7</td>\n",
       "      <td>0.013800</td>\n",
       "      <td>0.703880</td>\n",
       "      <td>0.582090</td>\n",
       "      <td>0.752724</td>\n",
       "      <td>0.785714</td>\n",
       "      <td>0.421053</td>\n",
       "      <td>0.707635</td>\n",
       "      <td>{'0.0': {'precision': 0.961038961038961, 'recall': 0.9446808510638298, 'f1-score': 0.9527896995708155, 'support': 235.0}, '1.0': {'precision': 0.38095238095238093, 'recall': 0.47058823529411764, 'f1-score': 0.42105263157894735, 'support': 17.0}, 'accuracy': 0.9126984126984127, 'macro avg': {'precision': 0.670995670995671, 'recall': 0.7076345431789737, 'f1-score': 0.6869211655748815, 'support': 252.0}, 'weighted avg': {'precision': 0.9219061361918505, 'recall': 0.9126984126984127, 'f1-score': 0.9169185481586656, 'support': 252.0}}</td>\n",
       "      <td>0.645833</td>\n",
       "      <td>0.765577</td>\n",
       "      <td>{'0.0': {'precision': 0.8990384615384616, 'recall': 0.935, 'f1-score': 0.9166666666666666, 'support': 200.0}, '1.0': {'precision': 0.7045454545454546, 'recall': 0.5961538461538461, 'f1-score': 0.6458333333333334, 'support': 52.0}, 'accuracy': 0.8650793650793651, 'macro avg': {'precision': 0.8017919580419581, 'recall': 0.7655769230769232, 'f1-score': 0.78125, 'support': 252.0}, 'weighted avg': {'precision': 0.8589049839049839, 'recall': 0.8650793650793651, 'f1-score': 0.8607804232804233, 'support': 252.0}}</td>\n",
       "    </tr>\n",
       "    <tr>\n",
       "      <td>8</td>\n",
       "      <td>0.013800</td>\n",
       "      <td>0.840524</td>\n",
       "      <td>0.606452</td>\n",
       "      <td>0.795752</td>\n",
       "      <td>0.765873</td>\n",
       "      <td>0.487805</td>\n",
       "      <td>0.764330</td>\n",
       "      <td>{'0.0': {'precision': 0.9692982456140351, 'recall': 0.9404255319148936, 'f1-score': 0.9546436285097192, 'support': 235.0}, '1.0': {'precision': 0.4166666666666667, 'recall': 0.5882352941176471, 'f1-score': 0.4878048780487805, 'support': 17.0}, 'accuracy': 0.9166666666666666, 'macro avg': {'precision': 0.6929824561403509, 'recall': 0.7643304130162704, 'f1-score': 0.7212242532792499, 'support': 252.0}, 'weighted avg': {'precision': 0.9320175438596492, 'recall': 0.9166666666666666, 'f1-score': 0.9231505382008462, 'support': 252.0}}</td>\n",
       "      <td>0.649123</td>\n",
       "      <td>0.793269</td>\n",
       "      <td>{'0.0': {'precision': 0.9210526315789473, 'recall': 0.875, 'f1-score': 0.8974358974358975, 'support': 200.0}, '1.0': {'precision': 0.5967741935483871, 'recall': 0.7115384615384616, 'f1-score': 0.6491228070175439, 'support': 52.0}, 'accuracy': 0.8412698412698413, 'macro avg': {'precision': 0.7589134125636672, 'recall': 0.7932692307692308, 'f1-score': 0.7732793522267207, 'support': 252.0}, 'weighted avg': {'precision': 0.854138033255181, 'recall': 0.8412698412698413, 'f1-score': 0.8461966883019515, 'support': 252.0}}</td>\n",
       "    </tr>\n",
       "    <tr>\n",
       "      <td>9</td>\n",
       "      <td>0.007700</td>\n",
       "      <td>0.719106</td>\n",
       "      <td>0.652482</td>\n",
       "      <td>0.803448</td>\n",
       "      <td>0.809524</td>\n",
       "      <td>0.484848</td>\n",
       "      <td>0.718273</td>\n",
       "      <td>{'0.0': {'precision': 0.961864406779661, 'recall': 0.9659574468085106, 'f1-score': 0.9639065817409767, 'support': 235.0}, '1.0': {'precision': 0.5, 'recall': 0.47058823529411764, 'f1-score': 0.48484848484848486, 'support': 17.0}, 'accuracy': 0.9325396825396826, 'macro avg': {'precision': 0.7309322033898304, 'recall': 0.7182728410513142, 'f1-score': 0.7243775332947308, 'support': 252.0}, 'weighted avg': {'precision': 0.9307068872746839, 'recall': 0.9325396825396826, 'f1-score': 0.9315891704426736, 'support': 252.0}}</td>\n",
       "      <td>0.703704</td>\n",
       "      <td>0.820385</td>\n",
       "      <td>{'0.0': {'precision': 0.9285714285714286, 'recall': 0.91, 'f1-score': 0.9191919191919192, 'support': 200.0}, '1.0': {'precision': 0.6785714285714286, 'recall': 0.7307692307692307, 'f1-score': 0.7037037037037037, 'support': 52.0}, 'accuracy': 0.873015873015873, 'macro avg': {'precision': 0.8035714285714286, 'recall': 0.8203846153846154, 'f1-score': 0.8114478114478114, 'support': 252.0}, 'weighted avg': {'precision': 0.876984126984127, 'recall': 0.873015873015873, 'f1-score': 0.8747260969483193, 'support': 252.0}}</td>\n",
       "    </tr>\n",
       "    <tr>\n",
       "      <td>10</td>\n",
       "      <td>0.006700</td>\n",
       "      <td>0.924912</td>\n",
       "      <td>0.612500</td>\n",
       "      <td>0.806797</td>\n",
       "      <td>0.757937</td>\n",
       "      <td>0.473684</td>\n",
       "      <td>0.739174</td>\n",
       "      <td>{'0.0': {'precision': 0.9653679653679653, 'recall': 0.948936170212766, 'f1-score': 0.9570815450643777, 'support': 235.0}, '1.0': {'precision': 0.42857142857142855, 'recall': 0.5294117647058824, 'f1-score': 0.47368421052631576, 'support': 17.0}, 'accuracy': 0.9206349206349206, 'macro avg': {'precision': 0.6969696969696969, 'recall': 0.7391739674593242, 'f1-score': 0.7153828777953467, 'support': 252.0}, 'weighted avg': {'precision': 0.9291555005840719, 'recall': 0.9206349206349206, 'f1-score': 0.9244714074169688, 'support': 252.0}}</td>\n",
       "      <td>0.655738</td>\n",
       "      <td>0.809615</td>\n",
       "      <td>{'0.0': {'precision': 0.9340659340659341, 'recall': 0.85, 'f1-score': 0.8900523560209425, 'support': 200.0}, '1.0': {'precision': 0.5714285714285714, 'recall': 0.7692307692307693, 'f1-score': 0.6557377049180327, 'support': 52.0}, 'accuracy': 0.8333333333333334, 'macro avg': {'precision': 0.7527472527472527, 'recall': 0.8096153846153846, 'f1-score': 0.7728950304694876, 'support': 252.0}, 'weighted avg': {'precision': 0.859236002093145, 'recall': 0.8333333333333334, 'f1-score': 0.8417017137298659, 'support': 252.0}}</td>\n",
       "    </tr>\n",
       "    <tr>\n",
       "      <td>11</td>\n",
       "      <td>0.009900</td>\n",
       "      <td>0.837119</td>\n",
       "      <td>0.644295</td>\n",
       "      <td>0.811044</td>\n",
       "      <td>0.793651</td>\n",
       "      <td>0.500000</td>\n",
       "      <td>0.720401</td>\n",
       "      <td>{'0.0': {'precision': 0.9620253164556962, 'recall': 0.9702127659574468, 'f1-score': 0.9661016949152542, 'support': 235.0}, '1.0': {'precision': 0.5333333333333333, 'recall': 0.47058823529411764, 'f1-score': 0.5, 'support': 17.0}, 'accuracy': 0.9365079365079365, 'macro avg': {'precision': 0.7476793248945148, 'recall': 0.7204005006257822, 'f1-score': 0.7330508474576272, 'support': 252.0}, 'weighted avg': {'precision': 0.9331056191815685, 'recall': 0.9365079365079365, 'f1-score': 0.934658326607479, 'support': 252.0}}</td>\n",
       "      <td>0.683761</td>\n",
       "      <td>0.822115</td>\n",
       "      <td>{'0.0': {'precision': 0.9358288770053476, 'recall': 0.875, 'f1-score': 0.9043927648578811, 'support': 200.0}, '1.0': {'precision': 0.6153846153846154, 'recall': 0.7692307692307693, 'f1-score': 0.6837606837606838, 'support': 52.0}, 'accuracy': 0.8531746031746031, 'macro avg': {'precision': 0.7756067461949815, 'recall': 0.8221153846153846, 'f1-score': 0.7940767243092824, 'support': 252.0}, 'weighted avg': {'precision': 0.869705457940752, 'recall': 0.8531746031746031, 'f1-score': 0.8588655100283008, 'support': 252.0}}</td>\n",
       "    </tr>\n",
       "    <tr>\n",
       "      <td>12</td>\n",
       "      <td>0.004900</td>\n",
       "      <td>0.873760</td>\n",
       "      <td>0.635762</td>\n",
       "      <td>0.808746</td>\n",
       "      <td>0.793651</td>\n",
       "      <td>0.484848</td>\n",
       "      <td>0.718273</td>\n",
       "      <td>{'0.0': {'precision': 0.961864406779661, 'recall': 0.9659574468085106, 'f1-score': 0.9639065817409767, 'support': 235.0}, '1.0': {'precision': 0.5, 'recall': 0.47058823529411764, 'f1-score': 0.48484848484848486, 'support': 17.0}, 'accuracy': 0.9325396825396826, 'macro avg': {'precision': 0.7309322033898304, 'recall': 0.7182728410513142, 'f1-score': 0.7243775332947308, 'support': 252.0}, 'weighted avg': {'precision': 0.9307068872746839, 'recall': 0.9325396825396826, 'f1-score': 0.9315891704426736, 'support': 252.0}}</td>\n",
       "      <td>0.677966</td>\n",
       "      <td>0.819615</td>\n",
       "      <td>{'0.0': {'precision': 0.9354838709677419, 'recall': 0.87, 'f1-score': 0.9015544041450777, 'support': 200.0}, '1.0': {'precision': 0.6060606060606061, 'recall': 0.7692307692307693, 'f1-score': 0.6779661016949152, 'support': 52.0}, 'accuracy': 0.8492063492063492, 'macro avg': {'precision': 0.770772238514174, 'recall': 0.8196153846153846, 'f1-score': 0.7897602529199965, 'support': 252.0}, 'weighted avg': {'precision': 0.8675076417011901, 'recall': 0.8492063492063492, 'f1-score': 0.8554171353855203, 'support': 252.0}}</td>\n",
       "    </tr>\n",
       "    <tr>\n",
       "      <td>13</td>\n",
       "      <td>0.000100</td>\n",
       "      <td>0.911056</td>\n",
       "      <td>0.631579</td>\n",
       "      <td>0.807596</td>\n",
       "      <td>0.785714</td>\n",
       "      <td>0.500000</td>\n",
       "      <td>0.720401</td>\n",
       "      <td>{'0.0': {'precision': 0.9620253164556962, 'recall': 0.9702127659574468, 'f1-score': 0.9661016949152542, 'support': 235.0}, '1.0': {'precision': 0.5333333333333333, 'recall': 0.47058823529411764, 'f1-score': 0.5, 'support': 17.0}, 'accuracy': 0.9365079365079365, 'macro avg': {'precision': 0.7476793248945148, 'recall': 0.7204005006257822, 'f1-score': 0.7330508474576272, 'support': 252.0}, 'weighted avg': {'precision': 0.9331056191815685, 'recall': 0.9365079365079365, 'f1-score': 0.934658326607479, 'support': 252.0}}</td>\n",
       "      <td>0.666667</td>\n",
       "      <td>0.814615</td>\n",
       "      <td>{'0.0': {'precision': 0.9347826086956522, 'recall': 0.86, 'f1-score': 0.8958333333333334, 'support': 200.0}, '1.0': {'precision': 0.5882352941176471, 'recall': 0.7692307692307693, 'f1-score': 0.6666666666666666, 'support': 52.0}, 'accuracy': 0.8412698412698413, 'macro avg': {'precision': 0.7615089514066496, 'recall': 0.8146153846153846, 'f1-score': 0.78125, 'support': 252.0}, 'weighted avg': {'precision': 0.8632728453700321, 'recall': 0.8412698412698413, 'f1-score': 0.8485449735449736, 'support': 252.0}}</td>\n",
       "    </tr>\n",
       "    <tr>\n",
       "      <td>14</td>\n",
       "      <td>0.002800</td>\n",
       "      <td>0.850641</td>\n",
       "      <td>0.614286</td>\n",
       "      <td>0.779410</td>\n",
       "      <td>0.793651</td>\n",
       "      <td>0.457143</td>\n",
       "      <td>0.714018</td>\n",
       "      <td>{'0.0': {'precision': 0.9615384615384616, 'recall': 0.9574468085106383, 'f1-score': 0.9594882729211087, 'support': 235.0}, '1.0': {'precision': 0.4444444444444444, 'recall': 0.47058823529411764, 'f1-score': 0.45714285714285713, 'support': 17.0}, 'accuracy': 0.9246031746031746, 'macro avg': {'precision': 0.7029914529914529, 'recall': 0.714017521902378, 'f1-score': 0.7083155650319829, 'support': 252.0}, 'weighted avg': {'precision': 0.9266551349884683, 'recall': 0.9246031746031746, 'f1-score': 0.9255998916979726, 'support': 252.0}}</td>\n",
       "      <td>0.666667</td>\n",
       "      <td>0.791538</td>\n",
       "      <td>{'0.0': {'precision': 0.914572864321608, 'recall': 0.91, 'f1-score': 0.9122807017543859, 'support': 200.0}, '1.0': {'precision': 0.660377358490566, 'recall': 0.6730769230769231, 'f1-score': 0.6666666666666666, 'support': 52.0}, 'accuracy': 0.8611111111111112, 'macro avg': {'precision': 0.787475111406087, 'recall': 0.7915384615384615, 'f1-score': 0.7894736842105263, 'support': 252.0}, 'weighted avg': {'precision': 0.8621198234358375, 'recall': 0.8611111111111112, 'f1-score': 0.8615984405458089, 'support': 252.0}}</td>\n",
       "    </tr>\n",
       "    <tr>\n",
       "      <td>15</td>\n",
       "      <td>0.000100</td>\n",
       "      <td>0.949473</td>\n",
       "      <td>0.635135</td>\n",
       "      <td>0.803798</td>\n",
       "      <td>0.793651</td>\n",
       "      <td>0.466667</td>\n",
       "      <td>0.693116</td>\n",
       "      <td>{'0.0': {'precision': 0.9581589958158996, 'recall': 0.9744680851063829, 'f1-score': 0.9662447257383966, 'support': 235.0}, '1.0': {'precision': 0.5384615384615384, 'recall': 0.4117647058823529, 'f1-score': 0.4666666666666667, 'support': 17.0}, 'accuracy': 0.9365079365079365, 'macro avg': {'precision': 0.748310267138719, 'recall': 0.693116395494368, 'f1-score': 0.7164556962025317, 'support': 252.0}, 'weighted avg': {'precision': 0.9298460721054863, 'recall': 0.9365079365079365, 'f1-score': 0.9325430312772084, 'support': 252.0}}</td>\n",
       "      <td>0.677966</td>\n",
       "      <td>0.819615</td>\n",
       "      <td>{'0.0': {'precision': 0.9354838709677419, 'recall': 0.87, 'f1-score': 0.9015544041450777, 'support': 200.0}, '1.0': {'precision': 0.6060606060606061, 'recall': 0.7692307692307693, 'f1-score': 0.6779661016949152, 'support': 52.0}, 'accuracy': 0.8492063492063492, 'macro avg': {'precision': 0.770772238514174, 'recall': 0.8196153846153846, 'f1-score': 0.7897602529199965, 'support': 252.0}, 'weighted avg': {'precision': 0.8675076417011901, 'recall': 0.8492063492063492, 'f1-score': 0.8554171353855203, 'support': 252.0}}</td>\n",
       "    </tr>\n",
       "    <tr>\n",
       "      <td>16</td>\n",
       "      <td>0.000000</td>\n",
       "      <td>0.934314</td>\n",
       "      <td>0.644295</td>\n",
       "      <td>0.811044</td>\n",
       "      <td>0.793651</td>\n",
       "      <td>0.500000</td>\n",
       "      <td>0.720401</td>\n",
       "      <td>{'0.0': {'precision': 0.9620253164556962, 'recall': 0.9702127659574468, 'f1-score': 0.9661016949152542, 'support': 235.0}, '1.0': {'precision': 0.5333333333333333, 'recall': 0.47058823529411764, 'f1-score': 0.5, 'support': 17.0}, 'accuracy': 0.9365079365079365, 'macro avg': {'precision': 0.7476793248945148, 'recall': 0.7204005006257822, 'f1-score': 0.7330508474576272, 'support': 252.0}, 'weighted avg': {'precision': 0.9331056191815685, 'recall': 0.9365079365079365, 'f1-score': 0.934658326607479, 'support': 252.0}}</td>\n",
       "      <td>0.683761</td>\n",
       "      <td>0.822115</td>\n",
       "      <td>{'0.0': {'precision': 0.9358288770053476, 'recall': 0.875, 'f1-score': 0.9043927648578811, 'support': 200.0}, '1.0': {'precision': 0.6153846153846154, 'recall': 0.7692307692307693, 'f1-score': 0.6837606837606838, 'support': 52.0}, 'accuracy': 0.8531746031746031, 'macro avg': {'precision': 0.7756067461949815, 'recall': 0.8221153846153846, 'f1-score': 0.7940767243092824, 'support': 252.0}, 'weighted avg': {'precision': 0.869705457940752, 'recall': 0.8531746031746031, 'f1-score': 0.8588655100283008, 'support': 252.0}}</td>\n",
       "    </tr>\n",
       "    <tr>\n",
       "      <td>17</td>\n",
       "      <td>0.000000</td>\n",
       "      <td>0.948909</td>\n",
       "      <td>0.648649</td>\n",
       "      <td>0.812194</td>\n",
       "      <td>0.797619</td>\n",
       "      <td>0.500000</td>\n",
       "      <td>0.720401</td>\n",
       "      <td>{'0.0': {'precision': 0.9620253164556962, 'recall': 0.9702127659574468, 'f1-score': 0.9661016949152542, 'support': 235.0}, '1.0': {'precision': 0.5333333333333333, 'recall': 0.47058823529411764, 'f1-score': 0.5, 'support': 17.0}, 'accuracy': 0.9365079365079365, 'macro avg': {'precision': 0.7476793248945148, 'recall': 0.7204005006257822, 'f1-score': 0.7330508474576272, 'support': 252.0}, 'weighted avg': {'precision': 0.9331056191815685, 'recall': 0.9365079365079365, 'f1-score': 0.934658326607479, 'support': 252.0}}</td>\n",
       "      <td>0.689655</td>\n",
       "      <td>0.824615</td>\n",
       "      <td>{'0.0': {'precision': 0.9361702127659575, 'recall': 0.88, 'f1-score': 0.9072164948453608, 'support': 200.0}, '1.0': {'precision': 0.625, 'recall': 0.7692307692307693, 'f1-score': 0.6896551724137931, 'support': 52.0}, 'accuracy': 0.8571428571428571, 'macro avg': {'precision': 0.7805851063829787, 'recall': 0.8246153846153846, 'f1-score': 0.7984358336295769, 'support': 252.0}, 'weighted avg': {'precision': 0.8719604863221885, 'recall': 0.8571428571428571, 'f1-score': 0.862322888629323, 'support': 252.0}}</td>\n",
       "    </tr>\n",
       "    <tr>\n",
       "      <td>18</td>\n",
       "      <td>0.000000</td>\n",
       "      <td>0.903050</td>\n",
       "      <td>0.657143</td>\n",
       "      <td>0.804598</td>\n",
       "      <td>0.813492</td>\n",
       "      <td>0.500000</td>\n",
       "      <td>0.720401</td>\n",
       "      <td>{'0.0': {'precision': 0.9620253164556962, 'recall': 0.9702127659574468, 'f1-score': 0.9661016949152542, 'support': 235.0}, '1.0': {'precision': 0.5333333333333333, 'recall': 0.47058823529411764, 'f1-score': 0.5, 'support': 17.0}, 'accuracy': 0.9365079365079365, 'macro avg': {'precision': 0.7476793248945148, 'recall': 0.7204005006257822, 'f1-score': 0.7330508474576272, 'support': 252.0}, 'weighted avg': {'precision': 0.9331056191815685, 'recall': 0.9365079365079365, 'f1-score': 0.934658326607479, 'support': 252.0}}</td>\n",
       "      <td>0.703704</td>\n",
       "      <td>0.820385</td>\n",
       "      <td>{'0.0': {'precision': 0.9285714285714286, 'recall': 0.91, 'f1-score': 0.9191919191919192, 'support': 200.0}, '1.0': {'precision': 0.6785714285714286, 'recall': 0.7307692307692307, 'f1-score': 0.7037037037037037, 'support': 52.0}, 'accuracy': 0.873015873015873, 'macro avg': {'precision': 0.8035714285714286, 'recall': 0.8203846153846154, 'f1-score': 0.8114478114478114, 'support': 252.0}, 'weighted avg': {'precision': 0.876984126984127, 'recall': 0.873015873015873, 'f1-score': 0.8747260969483193, 'support': 252.0}}</td>\n",
       "    </tr>\n",
       "    <tr>\n",
       "      <td>19</td>\n",
       "      <td>0.000000</td>\n",
       "      <td>0.923516</td>\n",
       "      <td>0.652482</td>\n",
       "      <td>0.803448</td>\n",
       "      <td>0.809524</td>\n",
       "      <td>0.484848</td>\n",
       "      <td>0.718273</td>\n",
       "      <td>{'0.0': {'precision': 0.961864406779661, 'recall': 0.9659574468085106, 'f1-score': 0.9639065817409767, 'support': 235.0}, '1.0': {'precision': 0.5, 'recall': 0.47058823529411764, 'f1-score': 0.48484848484848486, 'support': 17.0}, 'accuracy': 0.9325396825396826, 'macro avg': {'precision': 0.7309322033898304, 'recall': 0.7182728410513142, 'f1-score': 0.7243775332947308, 'support': 252.0}, 'weighted avg': {'precision': 0.9307068872746839, 'recall': 0.9325396825396826, 'f1-score': 0.9315891704426736, 'support': 252.0}}</td>\n",
       "      <td>0.703704</td>\n",
       "      <td>0.820385</td>\n",
       "      <td>{'0.0': {'precision': 0.9285714285714286, 'recall': 0.91, 'f1-score': 0.9191919191919192, 'support': 200.0}, '1.0': {'precision': 0.6785714285714286, 'recall': 0.7307692307692307, 'f1-score': 0.7037037037037037, 'support': 52.0}, 'accuracy': 0.873015873015873, 'macro avg': {'precision': 0.8035714285714286, 'recall': 0.8203846153846154, 'f1-score': 0.8114478114478114, 'support': 252.0}, 'weighted avg': {'precision': 0.876984126984127, 'recall': 0.873015873015873, 'f1-score': 0.8747260969483193, 'support': 252.0}}</td>\n",
       "    </tr>\n",
       "    <tr>\n",
       "      <td>20</td>\n",
       "      <td>0.000000</td>\n",
       "      <td>0.933217</td>\n",
       "      <td>0.643357</td>\n",
       "      <td>0.801149</td>\n",
       "      <td>0.801587</td>\n",
       "      <td>0.484848</td>\n",
       "      <td>0.718273</td>\n",
       "      <td>{'0.0': {'precision': 0.961864406779661, 'recall': 0.9659574468085106, 'f1-score': 0.9639065817409767, 'support': 235.0}, '1.0': {'precision': 0.5, 'recall': 0.47058823529411764, 'f1-score': 0.48484848484848486, 'support': 17.0}, 'accuracy': 0.9325396825396826, 'macro avg': {'precision': 0.7309322033898304, 'recall': 0.7182728410513142, 'f1-score': 0.7243775332947308, 'support': 252.0}, 'weighted avg': {'precision': 0.9307068872746839, 'recall': 0.9325396825396826, 'f1-score': 0.9315891704426736, 'support': 252.0}}</td>\n",
       "      <td>0.690909</td>\n",
       "      <td>0.815385</td>\n",
       "      <td>{'0.0': {'precision': 0.9278350515463918, 'recall': 0.9, 'f1-score': 0.9137055837563451, 'support': 200.0}, '1.0': {'precision': 0.6551724137931034, 'recall': 0.7307692307692307, 'f1-score': 0.6909090909090909, 'support': 52.0}, 'accuracy': 0.8650793650793651, 'macro avg': {'precision': 0.7915037326697476, 'recall': 0.8153846153846154, 'f1-score': 0.8023073373327181, 'support': 252.0}, 'weighted avg': {'precision': 0.8715713326449195, 'recall': 0.8650793650793651, 'f1-score': 0.8677317042799276, 'support': 252.0}}</td>\n",
       "    </tr>\n",
       "  </tbody>\n",
       "</table><p>"
      ],
      "text/plain": [
       "<IPython.core.display.HTML object>"
      ]
     },
     "metadata": {},
     "output_type": "display_data"
    },
    {
     "data": {
      "text/plain": [
       "TrainOutput(global_step=14520, training_loss=0.026142534255315503, metrics={'train_runtime': 1150.1263, 'train_samples_per_second': 50.499, 'train_steps_per_second': 12.625, 'total_flos': 1923426628485120.0, 'train_loss': 0.026142534255315503, 'epoch': 20.0})"
      ]
     },
     "execution_count": 21,
     "metadata": {},
     "output_type": "execute_result"
    }
   ],
   "source": [
    "trainer.train()"
   ]
  },
  {
   "cell_type": "markdown",
   "metadata": {
    "id": "hiloh9eMK91o"
   },
   "source": [
    "## Evaluate\n",
    "\n",
    "After training, we evaluate our model on the validation set."
   ]
  },
  {
   "cell_type": "code",
   "execution_count": 22,
   "metadata": {
    "colab": {
     "base_uri": "https://localhost:8080/",
     "height": 224
    },
    "id": "cMlebJ83LRYG",
    "outputId": "b18102e7-2198-4beb-c874-d39636f740ed"
   },
   "outputs": [
    {
     "data": {
      "text/html": [
       "\n",
       "    <div>\n",
       "      \n",
       "      <progress value='63' max='63' style='width:300px; height:20px; vertical-align: middle;'></progress>\n",
       "      [63/63 00:01]\n",
       "    </div>\n",
       "    "
      ],
      "text/plain": [
       "<IPython.core.display.HTML object>"
      ]
     },
     "metadata": {},
     "output_type": "display_data"
    },
    {
     "name": "stdout",
     "output_type": "stream",
     "text": [
      "{'eval_loss': 0.7096929550170898, 'eval_f1': 0.6707317073170732, 'eval_roc_auc': 0.8525737131434282, 'eval_accuracy': 0.7976190476190477, 'eval_f1_label_cyber_label': 0.47058823529411764, 'eval_roc_auc_label_cyber_label': 0.7161451814768461, 'eval_classification_report_label_cyber_label': {'0.0': {'precision': 0.9617021276595744, 'recall': 0.9617021276595744, 'f1-score': 0.9617021276595744, 'support': 235.0}, '1.0': {'precision': 0.47058823529411764, 'recall': 0.47058823529411764, 'f1-score': 0.47058823529411764, 'support': 17.0}, 'accuracy': 0.9285714285714286, 'macro avg': {'precision': 0.716145181476846, 'recall': 0.716145181476846, 'f1-score': 0.716145181476846, 'support': 252.0}, 'weighted avg': {'precision': 0.9285714285714286, 'recall': 0.9285714285714286, 'f1-score': 0.9285714285714286, 'support': 252.0}}, 'eval_f1_label_environmental_issue': 0.7230769230769231, 'eval_roc_auc_label_environmental_issue': 0.8744230769230769, 'eval_classification_report_label_environmental_issue': {'0.0': {'precision': 0.9712643678160919, 'recall': 0.845, 'f1-score': 0.9037433155080213, 'support': 200.0}, '1.0': {'precision': 0.6025641025641025, 'recall': 0.9038461538461539, 'f1-score': 0.7230769230769231, 'support': 52.0}, 'accuracy': 0.8571428571428571, 'macro avg': {'precision': 0.7869142351900973, 'recall': 0.874423076923077, 'f1-score': 0.8134101192924722, 'support': 252.0}, 'weighted avg': {'precision': 0.895183360700602, 'recall': 0.8571428571428571, 'f1-score': 0.8664629488158899, 'support': 252.0}}, 'eval_runtime': 1.0932, 'eval_samples_per_second': 230.508, 'eval_steps_per_second': 57.627, 'epoch': 20.0}\n"
     ]
    }
   ],
   "source": [
    "scores = trainer.evaluate()"
   ]
  },
  {
   "cell_type": "code",
   "execution_count": 27,
   "metadata": {},
   "outputs": [
    {
     "data": {
      "text/plain": [
       "{'eval_loss': 0.7096929550170898,\n",
       " 'eval_f1': 0.6707317073170732,\n",
       " 'eval_roc_auc': 0.8525737131434282,\n",
       " 'eval_accuracy': 0.7976190476190477,\n",
       " 'eval_f1_label_cyber_label': 0.47058823529411764,\n",
       " 'eval_roc_auc_label_cyber_label': 0.7161451814768461,\n",
       " 'eval_classification_report_label_cyber_label': {'0.0': {'precision': 0.9617021276595744,\n",
       "   'recall': 0.9617021276595744,\n",
       "   'f1-score': 0.9617021276595744,\n",
       "   'support': 235.0},\n",
       "  '1.0': {'precision': 0.47058823529411764,\n",
       "   'recall': 0.47058823529411764,\n",
       "   'f1-score': 0.47058823529411764,\n",
       "   'support': 17.0},\n",
       "  'accuracy': 0.9285714285714286,\n",
       "  'macro avg': {'precision': 0.716145181476846,\n",
       "   'recall': 0.716145181476846,\n",
       "   'f1-score': 0.716145181476846,\n",
       "   'support': 252.0},\n",
       "  'weighted avg': {'precision': 0.9285714285714286,\n",
       "   'recall': 0.9285714285714286,\n",
       "   'f1-score': 0.9285714285714286,\n",
       "   'support': 252.0}},\n",
       " 'eval_f1_label_environmental_issue': 0.7230769230769231,\n",
       " 'eval_roc_auc_label_environmental_issue': 0.8744230769230769,\n",
       " 'eval_classification_report_label_environmental_issue': {'0.0': {'precision': 0.9712643678160919,\n",
       "   'recall': 0.845,\n",
       "   'f1-score': 0.9037433155080213,\n",
       "   'support': 200.0},\n",
       "  '1.0': {'precision': 0.6025641025641025,\n",
       "   'recall': 0.9038461538461539,\n",
       "   'f1-score': 0.7230769230769231,\n",
       "   'support': 52.0},\n",
       "  'accuracy': 0.8571428571428571,\n",
       "  'macro avg': {'precision': 0.7869142351900973,\n",
       "   'recall': 0.874423076923077,\n",
       "   'f1-score': 0.8134101192924722,\n",
       "   'support': 252.0},\n",
       "  'weighted avg': {'precision': 0.895183360700602,\n",
       "   'recall': 0.8571428571428571,\n",
       "   'f1-score': 0.8664629488158899,\n",
       "   'support': 252.0}},\n",
       " 'eval_runtime': 1.0932,\n",
       " 'eval_samples_per_second': 230.508,\n",
       " 'eval_steps_per_second': 57.627,\n",
       " 'epoch': 20.0}"
      ]
     },
     "execution_count": 27,
     "metadata": {},
     "output_type": "execute_result"
    }
   ],
   "source": [
    "scores"
   ]
  },
  {
   "cell_type": "markdown",
   "metadata": {
    "id": "3nmvJp0pLq-3"
   },
   "source": [
    "## Inference\n",
    "\n",
    "Let's test the model on a new sentence:"
   ]
  },
  {
   "cell_type": "code",
   "execution_count": 24,
   "metadata": {
    "id": "3fxjfr8PLD42"
   },
   "outputs": [],
   "source": [
    "text = \"I'm happy I can finally train a model for multi-label classification\"\n",
    "\n",
    "encoding = tokenizer(text, return_tensors=\"pt\")\n",
    "encoding = {k: v.to(trainer.model.device) for k,v in encoding.items()}\n",
    "\n",
    "outputs = trainer.model(**encoding)"
   ]
  },
  {
   "cell_type": "markdown",
   "metadata": {
    "id": "8THm5-XgNHPm"
   },
   "source": [
    "The logits that come out of the model are of shape (batch_size, num_labels). As we are only forwarding a single sentence through the model, the `batch_size` equals 1. The logits is a tensor that contains the (unnormalized) scores for every individual label."
   ]
  },
  {
   "cell_type": "code",
   "execution_count": null,
   "metadata": {},
   "outputs": [],
   "source": [
    "logits = outputs.logits\n",
    "# apply sigmoid + threshold\n",
    "sigmoid = torch.nn.Sigmoid()\n",
    "probs = sigmoid(logits.squeeze().cpu())\n",
    "predictions = np.zeros(probs.shape)\n",
    "predictions[np.where(probs >= 0.5)] = 1\n",
    "# turn predicted id's into actual label names\n",
    "predicted_labels = [id2label[idx] for idx, label in enumerate(predictions) if label == 1.0]\n",
    "print(predicted_labels)"
   ]
  }
 ],
 "metadata": {
  "accelerator": "GPU",
  "colab": {
   "name": "Fine-tuning BERT (and friends) for multi-label text classification.ipynb",
   "provenance": []
  },
  "kernelspec": {
   "display_name": "Python 3 (ipykernel)",
   "language": "python",
   "name": "python3"
  },
  "language_info": {
   "codemirror_mode": {
    "name": "ipython",
    "version": 3
   },
   "file_extension": ".py",
   "mimetype": "text/x-python",
   "name": "python",
   "nbconvert_exporter": "python",
   "pygments_lexer": "ipython3",
   "version": "3.11.8"
  },
  "widgets": {
   "application/vnd.jupyter.widget-state+json": {
    "091f8220f33241f288faa0612853585f": {
     "model_module": "@jupyter-widgets/controls",
     "model_module_version": "1.5.0",
     "model_name": "FloatProgressModel",
     "state": {
      "_dom_classes": [],
      "_model_module": "@jupyter-widgets/controls",
      "_model_module_version": "1.5.0",
      "_model_name": "FloatProgressModel",
      "_view_count": null,
      "_view_module": "@jupyter-widgets/controls",
      "_view_module_version": "1.5.0",
      "_view_name": "ProgressView",
      "bar_style": "success",
      "description": "",
      "description_tooltip": null,
      "layout": "IPY_MODEL_6111a73e684a47769bda7183a836ee91",
      "max": 3,
      "min": 0,
      "orientation": "horizontal",
      "style": "IPY_MODEL_8b1899a0c4b144d7a5e6599f8afb8b65",
      "value": 3
     }
    },
    "1045bb16e3694410898a73cf1b848917": {
     "model_module": "@jupyter-widgets/controls",
     "model_module_version": "1.5.0",
     "model_name": "HTMLModel",
     "state": {
      "_dom_classes": [],
      "_model_module": "@jupyter-widgets/controls",
      "_model_module_version": "1.5.0",
      "_model_name": "HTMLModel",
      "_view_count": null,
      "_view_module": "@jupyter-widgets/controls",
      "_view_module_version": "1.5.0",
      "_view_name": "HTMLView",
      "description": "",
      "description_tooltip": null,
      "layout": "IPY_MODEL_bbba60f793c14100934a268063f63d26",
      "placeholder": "​",
      "style": "IPY_MODEL_cd3570ddf67541d7818d97e236c54e54",
      "value": " 3/3 [00:00&lt;00:00, 75.93it/s]"
     }
    },
    "308fa6a7348140ec981a8d6c7d31f346": {
     "model_module": "@jupyter-widgets/base",
     "model_module_version": "1.2.0",
     "model_name": "LayoutModel",
     "state": {
      "_model_module": "@jupyter-widgets/base",
      "_model_module_version": "1.2.0",
      "_model_name": "LayoutModel",
      "_view_count": null,
      "_view_module": "@jupyter-widgets/base",
      "_view_module_version": "1.2.0",
      "_view_name": "LayoutView",
      "align_content": null,
      "align_items": null,
      "align_self": null,
      "border": null,
      "bottom": null,
      "display": null,
      "flex": null,
      "flex_flow": null,
      "grid_area": null,
      "grid_auto_columns": null,
      "grid_auto_flow": null,
      "grid_auto_rows": null,
      "grid_column": null,
      "grid_gap": null,
      "grid_row": null,
      "grid_template_areas": null,
      "grid_template_columns": null,
      "grid_template_rows": null,
      "height": null,
      "justify_content": null,
      "justify_items": null,
      "left": null,
      "margin": null,
      "max_height": null,
      "max_width": null,
      "min_height": null,
      "min_width": null,
      "object_fit": null,
      "object_position": null,
      "order": null,
      "overflow": null,
      "overflow_x": null,
      "overflow_y": null,
      "padding": null,
      "right": null,
      "top": null,
      "visibility": null,
      "width": null
     }
    },
    "5080d322a8034924b652b379c04667ed": {
     "model_module": "@jupyter-widgets/base",
     "model_module_version": "1.2.0",
     "model_name": "LayoutModel",
     "state": {
      "_model_module": "@jupyter-widgets/base",
      "_model_module_version": "1.2.0",
      "_model_name": "LayoutModel",
      "_view_count": null,
      "_view_module": "@jupyter-widgets/base",
      "_view_module_version": "1.2.0",
      "_view_name": "LayoutView",
      "align_content": null,
      "align_items": null,
      "align_self": null,
      "border": null,
      "bottom": null,
      "display": null,
      "flex": null,
      "flex_flow": null,
      "grid_area": null,
      "grid_auto_columns": null,
      "grid_auto_flow": null,
      "grid_auto_rows": null,
      "grid_column": null,
      "grid_gap": null,
      "grid_row": null,
      "grid_template_areas": null,
      "grid_template_columns": null,
      "grid_template_rows": null,
      "height": null,
      "justify_content": null,
      "justify_items": null,
      "left": null,
      "margin": null,
      "max_height": null,
      "max_width": null,
      "min_height": null,
      "min_width": null,
      "object_fit": null,
      "object_position": null,
      "order": null,
      "overflow": null,
      "overflow_x": null,
      "overflow_y": null,
      "padding": null,
      "right": null,
      "top": null,
      "visibility": null,
      "width": null
     }
    },
    "6111a73e684a47769bda7183a836ee91": {
     "model_module": "@jupyter-widgets/base",
     "model_module_version": "1.2.0",
     "model_name": "LayoutModel",
     "state": {
      "_model_module": "@jupyter-widgets/base",
      "_model_module_version": "1.2.0",
      "_model_name": "LayoutModel",
      "_view_count": null,
      "_view_module": "@jupyter-widgets/base",
      "_view_module_version": "1.2.0",
      "_view_name": "LayoutView",
      "align_content": null,
      "align_items": null,
      "align_self": null,
      "border": null,
      "bottom": null,
      "display": null,
      "flex": null,
      "flex_flow": null,
      "grid_area": null,
      "grid_auto_columns": null,
      "grid_auto_flow": null,
      "grid_auto_rows": null,
      "grid_column": null,
      "grid_gap": null,
      "grid_row": null,
      "grid_template_areas": null,
      "grid_template_columns": null,
      "grid_template_rows": null,
      "height": null,
      "justify_content": null,
      "justify_items": null,
      "left": null,
      "margin": null,
      "max_height": null,
      "max_width": null,
      "min_height": null,
      "min_width": null,
      "object_fit": null,
      "object_position": null,
      "order": null,
      "overflow": null,
      "overflow_x": null,
      "overflow_y": null,
      "padding": null,
      "right": null,
      "top": null,
      "visibility": null,
      "width": null
     }
    },
    "8b1899a0c4b144d7a5e6599f8afb8b65": {
     "model_module": "@jupyter-widgets/controls",
     "model_module_version": "1.5.0",
     "model_name": "ProgressStyleModel",
     "state": {
      "_model_module": "@jupyter-widgets/controls",
      "_model_module_version": "1.5.0",
      "_model_name": "ProgressStyleModel",
      "_view_count": null,
      "_view_module": "@jupyter-widgets/base",
      "_view_module_version": "1.2.0",
      "_view_name": "StyleView",
      "bar_color": null,
      "description_width": ""
     }
    },
    "8bc92587e35443488445e7521fbd0a13": {
     "model_module": "@jupyter-widgets/controls",
     "model_module_version": "1.5.0",
     "model_name": "HTMLModel",
     "state": {
      "_dom_classes": [],
      "_model_module": "@jupyter-widgets/controls",
      "_model_module_version": "1.5.0",
      "_model_name": "HTMLModel",
      "_view_count": null,
      "_view_module": "@jupyter-widgets/controls",
      "_view_module_version": "1.5.0",
      "_view_name": "HTMLView",
      "description": "",
      "description_tooltip": null,
      "layout": "IPY_MODEL_5080d322a8034924b652b379c04667ed",
      "placeholder": "​",
      "style": "IPY_MODEL_cb95e545fbdd4e99903bf634df694c9f",
      "value": "100%"
     }
    },
    "9a1aa9f2cc29473f9f8e5459d2641e76": {
     "model_module": "@jupyter-widgets/controls",
     "model_module_version": "1.5.0",
     "model_name": "HBoxModel",
     "state": {
      "_dom_classes": [],
      "_model_module": "@jupyter-widgets/controls",
      "_model_module_version": "1.5.0",
      "_model_name": "HBoxModel",
      "_view_count": null,
      "_view_module": "@jupyter-widgets/controls",
      "_view_module_version": "1.5.0",
      "_view_name": "HBoxView",
      "box_style": "",
      "children": [
       "IPY_MODEL_8bc92587e35443488445e7521fbd0a13",
       "IPY_MODEL_091f8220f33241f288faa0612853585f",
       "IPY_MODEL_1045bb16e3694410898a73cf1b848917"
      ],
      "layout": "IPY_MODEL_308fa6a7348140ec981a8d6c7d31f346"
     }
    },
    "bbba60f793c14100934a268063f63d26": {
     "model_module": "@jupyter-widgets/base",
     "model_module_version": "1.2.0",
     "model_name": "LayoutModel",
     "state": {
      "_model_module": "@jupyter-widgets/base",
      "_model_module_version": "1.2.0",
      "_model_name": "LayoutModel",
      "_view_count": null,
      "_view_module": "@jupyter-widgets/base",
      "_view_module_version": "1.2.0",
      "_view_name": "LayoutView",
      "align_content": null,
      "align_items": null,
      "align_self": null,
      "border": null,
      "bottom": null,
      "display": null,
      "flex": null,
      "flex_flow": null,
      "grid_area": null,
      "grid_auto_columns": null,
      "grid_auto_flow": null,
      "grid_auto_rows": null,
      "grid_column": null,
      "grid_gap": null,
      "grid_row": null,
      "grid_template_areas": null,
      "grid_template_columns": null,
      "grid_template_rows": null,
      "height": null,
      "justify_content": null,
      "justify_items": null,
      "left": null,
      "margin": null,
      "max_height": null,
      "max_width": null,
      "min_height": null,
      "min_width": null,
      "object_fit": null,
      "object_position": null,
      "order": null,
      "overflow": null,
      "overflow_x": null,
      "overflow_y": null,
      "padding": null,
      "right": null,
      "top": null,
      "visibility": null,
      "width": null
     }
    },
    "cb95e545fbdd4e99903bf634df694c9f": {
     "model_module": "@jupyter-widgets/controls",
     "model_module_version": "1.5.0",
     "model_name": "DescriptionStyleModel",
     "state": {
      "_model_module": "@jupyter-widgets/controls",
      "_model_module_version": "1.5.0",
      "_model_name": "DescriptionStyleModel",
      "_view_count": null,
      "_view_module": "@jupyter-widgets/base",
      "_view_module_version": "1.2.0",
      "_view_name": "StyleView",
      "description_width": ""
     }
    },
    "cd3570ddf67541d7818d97e236c54e54": {
     "model_module": "@jupyter-widgets/controls",
     "model_module_version": "1.5.0",
     "model_name": "DescriptionStyleModel",
     "state": {
      "_model_module": "@jupyter-widgets/controls",
      "_model_module_version": "1.5.0",
      "_model_name": "DescriptionStyleModel",
      "_view_count": null,
      "_view_module": "@jupyter-widgets/base",
      "_view_module_version": "1.2.0",
      "_view_name": "StyleView",
      "description_width": ""
     }
    }
   }
  }
 },
 "nbformat": 4,
 "nbformat_minor": 4
}
