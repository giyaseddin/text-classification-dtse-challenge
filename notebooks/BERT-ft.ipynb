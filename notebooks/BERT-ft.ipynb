{
 "cells": [
  {
   "cell_type": "markdown",
   "metadata": {
    "id": "kLB3I4FKZ5Lr"
   },
   "source": [
    "# Fine-tuning BERT for multi-label text classification\n",
    "\n",
    "In this notebook, we are going to fine-tune BERT to predict multiple labels for a given piece of text. \n"
   ]
  },
  {
   "cell_type": "markdown",
   "metadata": {
    "id": "bIH9NP0MZ6-O"
   },
   "source": [
    "## Load dataset\n",
    "\n",
    "Next, let's load our **processed** dataset to address the class imbalance in the raw dataset.\n",
    "\n",
    "For this experiment, I use datasets as it is more compatible with with loading the data while fine-tuning the BERT-like models in the huggingface ecosystem:   \n",
    "\n",
    "* Load the created canonical datasets splits as dataframe, \n",
    "* next, cast the dataset to a huggingface dataset object.\n"
   ]
  },
  {
   "cell_type": "code",
   "execution_count": 2,
   "metadata": {
    "colab": {
     "base_uri": "https://localhost:8080/",
     "height": 86,
     "referenced_widgets": [
      "9a1aa9f2cc29473f9f8e5459d2641e76",
      "308fa6a7348140ec981a8d6c7d31f346",
      "8bc92587e35443488445e7521fbd0a13",
      "091f8220f33241f288faa0612853585f",
      "1045bb16e3694410898a73cf1b848917",
      "cb95e545fbdd4e99903bf634df694c9f",
      "5080d322a8034924b652b379c04667ed",
      "8b1899a0c4b144d7a5e6599f8afb8b65",
      "6111a73e684a47769bda7183a836ee91",
      "cd3570ddf67541d7818d97e236c54e54",
      "bbba60f793c14100934a268063f63d26"
     ]
    },
    "id": "sd1LiXGjZ420",
    "outputId": "1b5783cd-0e4e-4c92-c67c-57b9288f2381"
   },
   "outputs": [
    {
     "name": "stderr",
     "output_type": "stream",
     "text": [
      "/home/giyaseddin/miniconda3/envs/text-classification-dtse-challenge/lib/python3.11/site-packages/tqdm/auto.py:21: TqdmWarning: IProgress not found. Please update jupyter and ipywidgets. See https://ipywidgets.readthedocs.io/en/stable/user_install.html\n",
      "  from .autonotebook import tqdm as notebook_tqdm\n"
     ]
    },
    {
     "data": {
      "text/plain": [
       "DatasetDict({\n",
       "    train: Dataset({\n",
       "        features: ['clean_content', 'cyber_label', 'environmental_issue'],\n",
       "        num_rows: 1008\n",
       "    })\n",
       "    valid: Dataset({\n",
       "        features: ['clean_content', 'cyber_label', 'environmental_issue'],\n",
       "        num_rows: 252\n",
       "    })\n",
       "})"
      ]
     },
     "execution_count": 2,
     "metadata": {},
     "output_type": "execute_result"
    }
   ],
   "source": [
    "import pandas as pd\n",
    "from datasets import Dataset, DatasetDict\n",
    "\n",
    "train_df = pd.read_csv('../data/processed/clean_train.csv')\n",
    "valid_df = pd.read_csv('../data/processed/clean_valid.csv')\n",
    "\n",
    "\n",
    "# dataset = load_dataset(\"ethos\", \"multilabel\")\n",
    "\n",
    "ds_dict = {'train' : Dataset.from_pandas(train_df),\n",
    "           'valid' : Dataset.from_pandas(valid_df)}\n",
    "\n",
    "dataset = DatasetDict(ds_dict)\n",
    "dataset"
   ]
  },
  {
   "cell_type": "markdown",
   "metadata": {
    "id": "QCL02vQgxYTO"
   },
   "source": [
    "As we can see, the dataset contains 3 splits: one for training, one for validation and one for testing."
   ]
  },
  {
   "cell_type": "markdown",
   "metadata": {
    "id": "PgS0wMWExcqP"
   },
   "source": [
    "Let's check the first example of the training split:"
   ]
  },
  {
   "cell_type": "code",
   "execution_count": 4,
   "metadata": {
    "colab": {
     "base_uri": "https://localhost:8080/"
    },
    "id": "unjuTtKUjZI3",
    "outputId": "6f1e5051-8272-40f9-ced8-ba17a105e904"
   },
   "outputs": [
    {
     "data": {
      "text/plain": [
       "{'clean_content': \"It is a process that puts a heavier burden\\nof work on the auditees because they\\nmust be prepared to work closely with the\\ninternal audit function to share knowledge.\\nThat includes details of the AI models they\\nhave deployed, which can be complex and\\nincreases the level of specialist knowledge\\nneeded within the internal audit team.\\nOne roundtable attendee said he had\\nbrought in these skills initially from\\nan external supplier. However, as the\\norganisation digitalised it had decided\\nto create a dedicated team of experts inhouse that internal audit could buy days\\nDIGITAL DISRUPTION\\nAND NEW TECHNOLOGY\\nfrom through an internal exchange system.\\nWhile that worked well, finding subject\\nmatter experts in the business areas\\naffected by AI remained challenging.\\nThe European Union's proposal for draft\\nregulation on artificial intelligence, which\\nwas published in 2021, is well underway.\\nThat is likely to require certification for\\nAI models and business areas that are\\nconsidered high risk - such as those\\nmaking decisions that could affect people's\\nlives. Organisations are expected to have to\\nregister their systems with the authorities\\nand conduct regular compliance checks.\",\n",
       " 'cyber_label': 0,\n",
       " 'environmental_issue': 0}"
      ]
     },
     "execution_count": 4,
     "metadata": {},
     "output_type": "execute_result"
    }
   ],
   "source": [
    "example = dataset['train'][0]\n",
    "example"
   ]
  },
  {
   "cell_type": "markdown",
   "metadata": {
    "id": "6DV0Rtetxgd4"
   },
   "source": [
    "The dataset consists of tweets, labeled with one or more emotions.\n",
    "\n",
    "Let's create a list that contains the labels, as well as 2 dictionaries that map labels to integers and back."
   ]
  },
  {
   "cell_type": "code",
   "execution_count": 5,
   "metadata": {
    "colab": {
     "base_uri": "https://localhost:8080/"
    },
    "id": "e5vZhQpvkE8s",
    "outputId": "5d513b30-f209-492f-c6ab-245d64a67d40"
   },
   "outputs": [
    {
     "data": {
      "text/plain": [
       "['cyber_label', 'environmental_issue']"
      ]
     },
     "execution_count": 5,
     "metadata": {},
     "output_type": "execute_result"
    }
   ],
   "source": [
    "labels = [label for label in dataset['train'].features.keys() if label not in ['clean_content']]\n",
    "id2label = {idx:label for idx, label in enumerate(labels)}\n",
    "label2id = {label:idx for idx, label in enumerate(labels)}\n",
    "labels"
   ]
  },
  {
   "cell_type": "markdown",
   "metadata": {
    "id": "nJ3Teyjmank2"
   },
   "source": [
    "## Preprocess data\n",
    "\n",
    "As models like BERT don't expect text as direct input, but rather `input_ids`, etc., I tokenize the text using the tokenizer. Here I'm using the `AutoTokenizer` API, which will automatically load the appropriate tokenizer based on the checkpoint on the hub.\n",
    "\n",
    "What's a bit tricky is that we also need to provide labels to the model. For multi-label text classification, this is a matrix of shape (batch_size, num_labels). Also important: this should be a tensor of floats rather than integers, otherwise PyTorch' `BCEWithLogitsLoss` (which the model uses) will complain, as explained [here](https://discuss.pytorch.org/t/multi-label-binary-classification-result-type-float-cant-be-cast-to-the-desired-output-type-long/117915/3)."
   ]
  },
  {
   "cell_type": "code",
   "execution_count": 6,
   "metadata": {
    "id": "AFWlSsbZaRLc"
   },
   "outputs": [],
   "source": [
    "from transformers import AutoTokenizer\n",
    "import numpy as np\n",
    "\n",
    "model_id = \"distilbert/distilbert-base-uncased\"\n",
    "\n",
    "tokenizer = AutoTokenizer.from_pretrained(model_id)\n",
    "\n",
    "def preprocess_data(examples):\n",
    "  # take a batch of texts\n",
    "  text = examples[\"clean_content\"]\n",
    "  # encode them\n",
    "  encoding = tokenizer(text, padding=\"max_length\", truncation=True, max_length=128)\n",
    "  # add labels\n",
    "  labels_batch = {k: examples[k] for k in examples.keys() if k in labels}\n",
    "  # create numpy array of shape (batch_size, num_labels)\n",
    "  labels_matrix = np.zeros((len(text), len(labels)))\n",
    "  # fill numpy array\n",
    "  print(labels)\n",
    "  for idx, label in enumerate(labels):\n",
    "    labels_matrix[:, idx] = labels_batch[label]\n",
    "\n",
    "  encoding[\"labels\"] = labels_matrix.tolist()\n",
    "\n",
    "  return encoding"
   ]
  },
  {
   "cell_type": "markdown",
   "metadata": {},
   "source": [
    "Let's apply this on pre-processing function on our dataset using `map` method.."
   ]
  },
  {
   "cell_type": "code",
   "execution_count": 7,
   "metadata": {
    "colab": {
     "base_uri": "https://localhost:8080/"
    },
    "id": "i4ENBTdulBEI",
    "outputId": "02554a1f-4961-461a-bf29-555b8debeabf"
   },
   "outputs": [
    {
     "name": "stderr",
     "output_type": "stream",
     "text": [
      "Map: 100%|████████████████████████████████████████████████████████████████████████████████████████████████████████████████████████████| 1008/1008 [00:00<00:00, 8352.89 examples/s]\n"
     ]
    },
    {
     "name": "stdout",
     "output_type": "stream",
     "text": [
      "['cyber_label', 'environmental_issue']\n",
      "['cyber_label', 'environmental_issue']\n"
     ]
    },
    {
     "name": "stderr",
     "output_type": "stream",
     "text": [
      "Map: 100%|█████████████████████████████████████████████████████████████████████████████████████████████████████████████████████████████| 252/252 [00:00<00:00, 10016.53 examples/s]"
     ]
    },
    {
     "name": "stdout",
     "output_type": "stream",
     "text": [
      "['cyber_label', 'environmental_issue']\n"
     ]
    },
    {
     "name": "stderr",
     "output_type": "stream",
     "text": [
      "\n"
     ]
    }
   ],
   "source": [
    "encoded_dataset = dataset.map(preprocess_data, batched=True, remove_columns=dataset['train'].column_names)"
   ]
  },
  {
   "cell_type": "code",
   "execution_count": 8,
   "metadata": {
    "colab": {
     "base_uri": "https://localhost:8080/"
    },
    "id": "0enAb0W9o25W",
    "outputId": "55bc5ba6-d169-49c6-f562-bb7ea4143866"
   },
   "outputs": [
    {
     "name": "stdout",
     "output_type": "stream",
     "text": [
      "dict_keys(['input_ids', 'attention_mask', 'labels'])\n"
     ]
    }
   ],
   "source": [
    "example = encoded_dataset['train'][0]\n",
    "print(example.keys())"
   ]
  },
  {
   "cell_type": "code",
   "execution_count": 9,
   "metadata": {
    "colab": {
     "base_uri": "https://localhost:8080/",
     "height": 137
    },
    "id": "D0McCtJ8HRJY",
    "outputId": "82fb0336-51a3-40ad-ebc0-65eeb7cf4b6c"
   },
   "outputs": [
    {
     "data": {
      "text/plain": [
       "'[CLS] it is a process that puts a heavier burden of work on the auditees because they must be prepared to work closely with the internal audit function to share knowledge. that includes details of the ai models they have deployed, which can be complex and increases the level of specialist knowledge needed within the internal audit team. one roundtable attendee said he had brought in these skills initially from an external supplier. however, as the organisation digitalised it had decided to create a dedicated team of experts inhouse that internal audit could buy days digital disruption and new technology from through an internal exchange system. while that worked well, finding subject matter experts in [SEP]'"
      ]
     },
     "execution_count": 9,
     "metadata": {},
     "output_type": "execute_result"
    }
   ],
   "source": [
    "tokenizer.decode(example['input_ids'])"
   ]
  },
  {
   "cell_type": "code",
   "execution_count": 10,
   "metadata": {
    "colab": {
     "base_uri": "https://localhost:8080/"
    },
    "id": "VdIvj6WjHeZQ",
    "outputId": "418c14d2-cca3-44e9-d0a2-6ad4ca7a007c"
   },
   "outputs": [
    {
     "data": {
      "text/plain": [
       "[0.0, 0.0]"
      ]
     },
     "execution_count": 10,
     "metadata": {},
     "output_type": "execute_result"
    }
   ],
   "source": [
    "example['labels']"
   ]
  },
  {
   "cell_type": "code",
   "execution_count": 11,
   "metadata": {
    "colab": {
     "base_uri": "https://localhost:8080/"
    },
    "id": "q4Dx95t2o6N9",
    "outputId": "3ce6c923-0b45-4743-bc4b-7771d088b03e"
   },
   "outputs": [
    {
     "data": {
      "text/plain": [
       "[]"
      ]
     },
     "execution_count": 11,
     "metadata": {},
     "output_type": "execute_result"
    }
   ],
   "source": [
    "[id2label[idx] for idx, label in enumerate(example['labels']) if label == 1.0]"
   ]
  },
  {
   "cell_type": "markdown",
   "metadata": {
    "id": "HgpKXDfvKBxn"
   },
   "source": [
    "Finally, we set the format of our data to PyTorch tensors. This will turn the training, validation and test sets into standard PyTorch [datasets](https://pytorch.org/docs/stable/data.html)."
   ]
  },
  {
   "cell_type": "code",
   "execution_count": 12,
   "metadata": {
    "id": "Lk6Cq9duKBkA"
   },
   "outputs": [],
   "source": [
    "encoded_dataset.set_format(\"torch\")"
   ]
  },
  {
   "cell_type": "markdown",
   "metadata": {
    "id": "w5qSmCgWefWs"
   },
   "source": [
    "## Define model\n",
    "\n",
    "Here we define a model that includes a pre-trained base (i.e. the weights from bert-base-uncased or other optimized checkpoints like distilbert-base-uncased) are loaded, with a random initialized classification head (linear layer) on top. This head is going to be fine-tuned, together with the pre-trained base on our labeled dataset.\n",
    "\n",
    "This is also printed by the warning.\n",
    "\n",
    "We set the `problem_type` to be \"multi_label_classification\", as this will make sure the appropriate loss function is used (namely [`BCEWithLogitsLoss`](https://pytorch.org/docs/stable/generated/torch.nn.BCEWithLogitsLoss.html)). We also make sure the output layer has `len(labels)` output neurons, and we set the id2label and label2id mappings."
   ]
  },
  {
   "cell_type": "code",
   "execution_count": 13,
   "metadata": {
    "colab": {
     "base_uri": "https://localhost:8080/"
    },
    "id": "6XPL1Z_RegBF",
    "outputId": "22994300-8c93-421e-faa4-678d6cc14aab"
   },
   "outputs": [
    {
     "name": "stderr",
     "output_type": "stream",
     "text": [
      "Some weights of DistilBertForSequenceClassification were not initialized from the model checkpoint at distilbert/distilbert-base-uncased and are newly initialized: ['classifier.bias', 'classifier.weight', 'pre_classifier.bias', 'pre_classifier.weight']\n",
      "You should probably TRAIN this model on a down-stream task to be able to use it for predictions and inference.\n"
     ]
    }
   ],
   "source": [
    "from transformers import AutoModelForSequenceClassification\n",
    "\n",
    "model = AutoModelForSequenceClassification.from_pretrained(\n",
    "   model_id,\n",
    "   problem_type=\"multi_label_classification\",\n",
    "   num_labels=len(labels),\n",
    "   id2label=id2label,\n",
    "   label2id=label2id,\n",
    ")"
   ]
  },
  {
   "cell_type": "markdown",
   "metadata": {
    "id": "mjJGEXShp7te"
   },
   "source": [
    "## Train the model!\n",
    "\n",
    "We are going to train the model using HuggingFace's Trainer API. This requires us to define 2 things:\n",
    "\n",
    "* `TrainingArguments`, which specify training hyperparameters. All options can be found in the [docs](https://huggingface.co/transformers/main_classes/trainer.html#trainingarguments). Below, we for example specify that we want to evaluate after every epoch of training, we would like to save the model every epoch, we set the learning rate, the batch size to use for training/evaluation, how many epochs to train for, and so on.\n",
    "* a `Trainer` object (docs can be found [here](https://huggingface.co/transformers/main_classes/trainer.html#id1))."
   ]
  },
  {
   "cell_type": "code",
   "execution_count": 14,
   "metadata": {
    "id": "K5a8_vIKqr7P"
   },
   "outputs": [],
   "source": [
    "batch_size = 4\n",
    "metric_name = \"f1\""
   ]
  },
  {
   "cell_type": "code",
   "execution_count": 15,
   "metadata": {
    "id": "dR2GmpvDqbuZ"
   },
   "outputs": [],
   "source": [
    "from transformers import TrainingArguments, Trainer\n",
    "\n",
    "args = TrainingArguments(\n",
    "    f\"bert-finetuned-sem_eval-english\",\n",
    "    evaluation_strategy = \"epoch\",\n",
    "    save_strategy = \"epoch\",\n",
    "    learning_rate=1e-5,\n",
    "    per_device_train_batch_size=batch_size,\n",
    "    per_device_eval_batch_size=batch_size,\n",
    "    num_train_epochs=20,\n",
    "    weight_decay=0.01,\n",
    "    load_best_model_at_end=True,\n",
    "    metric_for_best_model=metric_name,\n",
    "    #push_to_hub=True,\n",
    ")"
   ]
  },
  {
   "cell_type": "markdown",
   "metadata": {
    "id": "1_v2fPFFJ3-v"
   },
   "source": [
    "We are also going to compute metrics while training. For this, we need to define a `compute_metrics` function, that returns a dictionary with the desired metric values.\n",
    "\n",
    "I also added the classification reports for each of the classes for better visibility on how well the model is progressing."
   ]
  },
  {
   "cell_type": "code",
   "execution_count": 16,
   "metadata": {
    "id": "797b2WHJqUgZ"
   },
   "outputs": [],
   "source": [
    "from sklearn.metrics import f1_score, roc_auc_score, accuracy_score, classification_report\n",
    "from transformers import EvalPrediction\n",
    "import torch\n",
    "\n",
    "# source: https://jesusleal.io/2021/04/21/Longformer-multilabel-classification/\n",
    "def multi_label_metrics(predictions, labels, threshold=0.5):\n",
    "    # first, apply sigmoid on predictions which are of shape (batch_size, num_labels)\n",
    "    sigmoid = torch.nn.Sigmoid()\n",
    "    probs = sigmoid(torch.Tensor(predictions))\n",
    "    # next, use threshold to turn them into integer predictions\n",
    "    y_pred = np.zeros(probs.shape)\n",
    "    y_pred[np.where(probs >= threshold)] = 1\n",
    "    # finally, compute metrics\n",
    "    y_true = labels\n",
    "    f1_micro_average = f1_score(y_true=y_true, y_pred=y_pred, average='micro')\n",
    "    roc_auc = roc_auc_score(y_true, y_pred, average = 'micro')\n",
    "    accuracy = accuracy_score(y_true, y_pred)\n",
    "    # return as dictionary\n",
    "    metrics = {'f1': f1_micro_average,\n",
    "               'roc_auc': roc_auc,\n",
    "               'accuracy': accuracy}\n",
    "\n",
    "    # Compute metrics for each label\n",
    "    for i in range(y_true.shape[1]):  # Assuming labels are in the columns\n",
    "        metrics[f'f1_label_{id2label[i]}'] = f1_score(y_true[:, i], y_pred[:, i], average='binary', zero_division=0)\n",
    "        metrics[f'roc_auc_label_{id2label[i]}'] = roc_auc_score(y_true[:, i], y_pred[:, i])\n",
    "        report = classification_report(y_true[:, i], y_pred[:, i], output_dict=True, zero_division=0)\n",
    "        metrics[f'classification_report_label_{id2label[i]}'] = report\n",
    "\n",
    "    return metrics\n",
    "\n",
    "def compute_metrics(p: EvalPrediction):\n",
    "    preds = p.predictions[0] if isinstance(p.predictions,\n",
    "            tuple) else p.predictions\n",
    "    result = multi_label_metrics(\n",
    "        predictions=preds,\n",
    "        labels=p.label_ids)\n",
    "    return result"
   ]
  },
  {
   "cell_type": "markdown",
   "metadata": {
    "id": "fxNo4_TsvzDm"
   },
   "source": [
    "Let's verify a batch as well as a forward pass:"
   ]
  },
  {
   "cell_type": "code",
   "execution_count": 17,
   "metadata": {
    "colab": {
     "base_uri": "https://localhost:8080/",
     "height": 35
    },
    "id": "IlOgGiojuWwG",
    "outputId": "cd0b2c99-b520-468d-8ffc-c36211b7820a"
   },
   "outputs": [
    {
     "data": {
      "text/plain": [
       "'torch.FloatTensor'"
      ]
     },
     "execution_count": 17,
     "metadata": {},
     "output_type": "execute_result"
    }
   ],
   "source": [
    "encoded_dataset['train'][0]['labels'].type()"
   ]
  },
  {
   "cell_type": "code",
   "execution_count": 18,
   "metadata": {
    "colab": {
     "base_uri": "https://localhost:8080/"
    },
    "id": "Y41Kre_jvD7x",
    "outputId": "b6ca888b-6371-40fb-ab83-3dc24d28320a"
   },
   "outputs": [
    {
     "data": {
      "text/plain": [
       "tensor([  101,  2009,  2003,  1037,  2832,  2008,  8509,  1037, 11907, 10859,\n",
       "         1997,  2147,  2006,  1996, 15727, 10285,  2138,  2027,  2442,  2022,\n",
       "         4810,  2000,  2147,  4876,  2007,  1996,  4722, 15727,  3853,  2000,\n",
       "         3745,  3716,  1012,  2008,  2950,  4751,  1997,  1996,  9932,  4275,\n",
       "         2027,  2031,  7333,  1010,  2029,  2064,  2022,  3375,  1998,  7457,\n",
       "         1996,  2504,  1997,  8325,  3716,  2734,  2306,  1996,  4722, 15727,\n",
       "         2136,  1012,  2028,  2461, 10880,  5463,  4402,  2056,  2002,  2018,\n",
       "         2716,  1999,  2122,  4813,  3322,  2013,  2019,  6327, 17024,  1012,\n",
       "         2174,  1010,  2004,  1996,  5502,  3617,  5084,  2009,  2018,  2787,\n",
       "         2000,  3443,  1037,  4056,  2136,  1997,  8519,  1999,  4580,  2008,\n",
       "         4722, 15727,  2071,  4965,  2420,  3617, 20461,  1998,  2047,  2974,\n",
       "         2013,  2083,  2019,  4722,  3863,  2291,  1012,  2096,  2008,  2499,\n",
       "         2092,  1010,  4531,  3395,  3043,  8519,  1999,   102])"
      ]
     },
     "execution_count": 18,
     "metadata": {},
     "output_type": "execute_result"
    }
   ],
   "source": [
    "encoded_dataset['train']['input_ids'][0]"
   ]
  },
  {
   "cell_type": "code",
   "execution_count": 19,
   "metadata": {
    "colab": {
     "base_uri": "https://localhost:8080/"
    },
    "id": "sxWcnZ8ku12V",
    "outputId": "26522911-c3cd-466a-ae2d-d81d23003c23"
   },
   "outputs": [
    {
     "data": {
      "text/plain": [
       "SequenceClassifierOutput(loss=tensor(0.6676, grad_fn=<BinaryCrossEntropyWithLogitsBackward0>), logits=tensor([[-0.1347,  0.0277]], grad_fn=<AddmmBackward0>), hidden_states=None, attentions=None)"
      ]
     },
     "execution_count": 19,
     "metadata": {},
     "output_type": "execute_result"
    }
   ],
   "source": [
    "#forward pass\n",
    "outputs = model(input_ids=encoded_dataset['train']['input_ids'][0].unsqueeze(0), labels=encoded_dataset['train'][0]['labels'].unsqueeze(0))\n",
    "outputs"
   ]
  },
  {
   "cell_type": "markdown",
   "metadata": {
    "id": "f-X2brZcv0X6"
   },
   "source": [
    "Let's start training!"
   ]
  },
  {
   "cell_type": "code",
   "execution_count": 20,
   "metadata": {
    "id": "chq_3nUz73ib"
   },
   "outputs": [
    {
     "name": "stderr",
     "output_type": "stream",
     "text": [
      "/home/giyaseddin/miniconda3/envs/text-classification-dtse-challenge/lib/python3.11/site-packages/accelerate/accelerator.py:436: FutureWarning: Passing the following arguments to `Accelerator` is deprecated and will be removed in version 1.0 of Accelerate: dict_keys(['dispatch_batches', 'split_batches', 'even_batches', 'use_seedable_sampler']). Please pass an `accelerate.DataLoaderConfiguration` instead: \n",
      "dataloader_config = DataLoaderConfiguration(dispatch_batches=None, split_batches=False, even_batches=True, use_seedable_sampler=True)\n",
      "  warnings.warn(\n"
     ]
    }
   ],
   "source": [
    "trainer = Trainer(\n",
    "    model,\n",
    "    args,\n",
    "    train_dataset=encoded_dataset[\"train\"],\n",
    "    eval_dataset=encoded_dataset[\"valid\"],\n",
    "    tokenizer=tokenizer,\n",
    "    compute_metrics=compute_metrics\n",
    ")"
   ]
  },
  {
   "cell_type": "code",
   "execution_count": 21,
   "metadata": {
    "colab": {
     "base_uri": "https://localhost:8080/",
     "height": 1000
    },
    "id": "KXmFds8js6P8",
    "outputId": "66ebb2ab-f93f-48aa-a4dc-36f55f2f8559"
   },
   "outputs": [
    {
     "data": {
      "text/html": [
       "\n",
       "    <div>\n",
       "      \n",
       "      <progress value='5040' max='5040' style='width:300px; height:20px; vertical-align: middle;'></progress>\n",
       "      [5040/5040 06:55, Epoch 20/20]\n",
       "    </div>\n",
       "    <table border=\"1\" class=\"dataframe\">\n",
       "  <thead>\n",
       " <tr style=\"text-align: left;\">\n",
       "      <th>Epoch</th>\n",
       "      <th>Training Loss</th>\n",
       "      <th>Validation Loss</th>\n",
       "      <th>F1</th>\n",
       "      <th>Roc Auc</th>\n",
       "      <th>Accuracy</th>\n",
       "      <th>F1 Label Cyber Label</th>\n",
       "      <th>Roc Auc Label Cyber Label</th>\n",
       "      <th>Classification Report Label Cyber Label</th>\n",
       "      <th>F1 Label Environmental Issue</th>\n",
       "      <th>Roc Auc Label Environmental Issue</th>\n",
       "      <th>Classification Report Label Environmental Issue</th>\n",
       "    </tr>\n",
       "  </thead>\n",
       "  <tbody>\n",
       "    <tr>\n",
       "      <td>1</td>\n",
       "      <td>No log</td>\n",
       "      <td>0.303823</td>\n",
       "      <td>0.292683</td>\n",
       "      <td>0.585807</td>\n",
       "      <td>0.781746</td>\n",
       "      <td>0.000000</td>\n",
       "      <td>0.500000</td>\n",
       "      <td>{'0.0': {'precision': 0.9325396825396826, 'recall': 1.0, 'f1-score': 0.9650924024640657, 'support': 235.0}, '1.0': {'precision': 0.0, 'recall': 0.0, 'f1-score': 0.0, 'support': 17.0}, 'accuracy': 0.9325396825396826, 'macro avg': {'precision': 0.4662698412698413, 'recall': 0.5, 'f1-score': 0.48254620123203285, 'support': 252.0}, 'weighted avg': {'precision': 0.8696302595112119, 'recall': 0.9325396825396826, 'f1-score': 0.8999869626152994, 'support': 252.0}}</td>\n",
       "      <td>0.369231</td>\n",
       "      <td>0.612885</td>\n",
       "      <td>{'0.0': {'precision': 0.8326359832635983, 'recall': 0.995, 'f1-score': 0.9066059225512528, 'support': 200.0}, '1.0': {'precision': 0.9230769230769231, 'recall': 0.23076923076923078, 'f1-score': 0.36923076923076925, 'support': 52.0}, 'accuracy': 0.8373015873015873, 'macro avg': {'precision': 0.8778564531702607, 'recall': 0.6128846153846154, 'f1-score': 0.637918345891011, 'support': 252.0}, 'weighted avg': {'precision': 0.8512983994155543, 'recall': 0.8373015873015873, 'f1-score': 0.795718986151788, 'support': 252.0}}</td>\n",
       "    </tr>\n",
       "    <tr>\n",
       "      <td>2</td>\n",
       "      <td>0.341200</td>\n",
       "      <td>0.249917</td>\n",
       "      <td>0.593220</td>\n",
       "      <td>0.737531</td>\n",
       "      <td>0.821429</td>\n",
       "      <td>0.533333</td>\n",
       "      <td>0.724656</td>\n",
       "      <td>{'0.0': {'precision': 0.9623430962343096, 'recall': 0.9787234042553191, 'f1-score': 0.9704641350210971, 'support': 235.0}, '1.0': {'precision': 0.6153846153846154, 'recall': 0.47058823529411764, 'f1-score': 0.5333333333333333, 'support': 17.0}, 'accuracy': 0.9444444444444444, 'macro avg': {'precision': 0.7888638558094625, 'recall': 0.7246558197747184, 'f1-score': 0.7518987341772152, 'support': 252.0}, 'weighted avg': {'precision': 0.9389371669706397, 'recall': 0.9444444444444444, 'f1-score': 0.9409751523675575, 'support': 252.0}}</td>\n",
       "      <td>0.613636</td>\n",
       "      <td>0.737115</td>\n",
       "      <td>{'0.0': {'precision': 0.8842592592592593, 'recall': 0.955, 'f1-score': 0.9182692307692307, 'support': 200.0}, '1.0': {'precision': 0.75, 'recall': 0.5192307692307693, 'f1-score': 0.6136363636363636, 'support': 52.0}, 'accuracy': 0.8650793650793651, 'macro avg': {'precision': 0.8171296296296297, 'recall': 0.7371153846153846, 'f1-score': 0.7659527972027972, 'support': 252.0}, 'weighted avg': {'precision': 0.8565549676660787, 'recall': 0.8650793650793651, 'f1-score': 0.8554084804084803, 'support': 252.0}}</td>\n",
       "    </tr>\n",
       "    <tr>\n",
       "      <td>3</td>\n",
       "      <td>0.341200</td>\n",
       "      <td>0.246388</td>\n",
       "      <td>0.576000</td>\n",
       "      <td>0.737881</td>\n",
       "      <td>0.805556</td>\n",
       "      <td>0.500000</td>\n",
       "      <td>0.743429</td>\n",
       "      <td>{'0.0': {'precision': 0.9656652360515021, 'recall': 0.9574468085106383, 'f1-score': 0.9615384615384616, 'support': 235.0}, '1.0': {'precision': 0.47368421052631576, 'recall': 0.5294117647058824, 'f1-score': 0.5, 'support': 17.0}, 'accuracy': 0.9285714285714286, 'macro avg': {'precision': 0.7196747232889089, 'recall': 0.7434292866082604, 'f1-score': 0.7307692307692308, 'support': 252.0}, 'weighted avg': {'precision': 0.9324760398851205, 'recall': 0.9285714285714286, 'f1-score': 0.9304029304029304, 'support': 252.0}}</td>\n",
       "      <td>0.606742</td>\n",
       "      <td>0.734615</td>\n",
       "      <td>{'0.0': {'precision': 0.8837209302325582, 'recall': 0.95, 'f1-score': 0.9156626506024096, 'support': 200.0}, '1.0': {'precision': 0.7297297297297297, 'recall': 0.5192307692307693, 'f1-score': 0.6067415730337079, 'support': 52.0}, 'accuracy': 0.8611111111111112, 'macro avg': {'precision': 0.8067253299811439, 'recall': 0.7346153846153847, 'f1-score': 0.7612021118180587, 'support': 252.0}, 'weighted avg': {'precision': 0.851944968224038, 'recall': 0.8611111111111112, 'f1-score': 0.8519170314215664, 'support': 252.0}}</td>\n",
       "    </tr>\n",
       "    <tr>\n",
       "      <td>4</td>\n",
       "      <td>0.188200</td>\n",
       "      <td>0.307806</td>\n",
       "      <td>0.666667</td>\n",
       "      <td>0.846477</td>\n",
       "      <td>0.801587</td>\n",
       "      <td>0.500000</td>\n",
       "      <td>0.720401</td>\n",
       "      <td>{'0.0': {'precision': 0.9620253164556962, 'recall': 0.9702127659574468, 'f1-score': 0.9661016949152542, 'support': 235.0}, '1.0': {'precision': 0.5333333333333333, 'recall': 0.47058823529411764, 'f1-score': 0.5, 'support': 17.0}, 'accuracy': 0.9365079365079365, 'macro avg': {'precision': 0.7476793248945148, 'recall': 0.7204005006257822, 'f1-score': 0.7330508474576272, 'support': 252.0}, 'weighted avg': {'precision': 0.9331056191815685, 'recall': 0.9365079365079365, 'f1-score': 0.934658326607479, 'support': 252.0}}</td>\n",
       "      <td>0.707692</td>\n",
       "      <td>0.862308</td>\n",
       "      <td>{'0.0': {'precision': 0.9655172413793104, 'recall': 0.84, 'f1-score': 0.8983957219251337, 'support': 200.0}, '1.0': {'precision': 0.5897435897435898, 'recall': 0.8846153846153846, 'f1-score': 0.7076923076923077, 'support': 52.0}, 'accuracy': 0.8492063492063492, 'macro avg': {'precision': 0.7776304155614501, 'recall': 0.8623076923076922, 'f1-score': 0.8030440148087208, 'support': 252.0}, 'weighted avg': {'precision': 0.8879766465973362, 'recall': 0.8492063492063492, 'f1-score': 0.8590442237501061, 'support': 252.0}}</td>\n",
       "    </tr>\n",
       "    <tr>\n",
       "      <td>5</td>\n",
       "      <td>0.188200</td>\n",
       "      <td>0.327929</td>\n",
       "      <td>0.666667</td>\n",
       "      <td>0.811844</td>\n",
       "      <td>0.825397</td>\n",
       "      <td>0.500000</td>\n",
       "      <td>0.697372</td>\n",
       "      <td>{'0.0': {'precision': 0.9585062240663901, 'recall': 0.9829787234042553, 'f1-score': 0.9705882352941176, 'support': 235.0}, '1.0': {'precision': 0.6363636363636364, 'recall': 0.4117647058823529, 'f1-score': 0.5, 'support': 17.0}, 'accuracy': 0.9444444444444444, 'macro avg': {'precision': 0.7974349302150132, 'recall': 0.697371714643304, 'f1-score': 0.7352941176470589, 'support': 252.0}, 'weighted avg': {'precision': 0.9367743828324742, 'recall': 0.9444444444444444, 'f1-score': 0.9388422035480859, 'support': 252.0}}</td>\n",
       "      <td>0.707965</td>\n",
       "      <td>0.832115</td>\n",
       "      <td>{'0.0': {'precision': 0.93717277486911, 'recall': 0.895, 'f1-score': 0.9156010230179028, 'support': 200.0}, '1.0': {'precision': 0.6557377049180327, 'recall': 0.7692307692307693, 'f1-score': 0.7079646017699115, 'support': 52.0}, 'accuracy': 0.8690476190476191, 'macro avg': {'precision': 0.7964552398935714, 'recall': 0.8321153846153846, 'f1-score': 0.8117828123939071, 'support': 252.0}, 'weighted avg': {'precision': 0.8790988715458719, 'recall': 0.8690476190476191, 'f1-score': 0.8727554122841903, 'support': 252.0}}</td>\n",
       "    </tr>\n",
       "    <tr>\n",
       "      <td>6</td>\n",
       "      <td>0.111700</td>\n",
       "      <td>0.302297</td>\n",
       "      <td>0.666667</td>\n",
       "      <td>0.801949</td>\n",
       "      <td>0.833333</td>\n",
       "      <td>0.482759</td>\n",
       "      <td>0.695244</td>\n",
       "      <td>{'0.0': {'precision': 0.9583333333333334, 'recall': 0.9787234042553191, 'f1-score': 0.968421052631579, 'support': 235.0}, '1.0': {'precision': 0.5833333333333334, 'recall': 0.4117647058823529, 'f1-score': 0.4827586206896552, 'support': 17.0}, 'accuracy': 0.9404761904761905, 'macro avg': {'precision': 0.7708333333333334, 'recall': 0.695244055068836, 'f1-score': 0.725589836660617, 'support': 252.0}, 'weighted avg': {'precision': 0.9330357142857143, 'recall': 0.9404761904761905, 'f1-score': 0.935658110794227, 'support': 252.0}}</td>\n",
       "      <td>0.716981</td>\n",
       "      <td>0.825385</td>\n",
       "      <td>{'0.0': {'precision': 0.9292929292929293, 'recall': 0.92, 'f1-score': 0.9246231155778895, 'support': 200.0}, '1.0': {'precision': 0.7037037037037037, 'recall': 0.7307692307692307, 'f1-score': 0.7169811320754716, 'support': 52.0}, 'accuracy': 0.8809523809523809, 'macro avg': {'precision': 0.8164983164983165, 'recall': 0.8253846153846154, 'f1-score': 0.8208021238266805, 'support': 252.0}, 'weighted avg': {'precision': 0.8827427716316606, 'recall': 0.8809523809523809, 'f1-score': 0.8817763570773905, 'support': 252.0}}</td>\n",
       "    </tr>\n",
       "    <tr>\n",
       "      <td>7</td>\n",
       "      <td>0.111700</td>\n",
       "      <td>0.347805</td>\n",
       "      <td>0.622222</td>\n",
       "      <td>0.776762</td>\n",
       "      <td>0.809524</td>\n",
       "      <td>0.594595</td>\n",
       "      <td>0.804380</td>\n",
       "      <td>{'0.0': {'precision': 0.9741379310344828, 'recall': 0.9617021276595744, 'f1-score': 0.9678800856531049, 'support': 235.0}, '1.0': {'precision': 0.55, 'recall': 0.6470588235294118, 'f1-score': 0.5945945945945946, 'support': 17.0}, 'accuracy': 0.9404761904761905, 'macro avg': {'precision': 0.7620689655172415, 'recall': 0.8043804755944931, 'f1-score': 0.7812373401238497, 'support': 252.0}, 'weighted avg': {'precision': 0.9455254515599344, 'recall': 0.9404761904761905, 'f1-score': 0.9426981279229673, 'support': 252.0}}</td>\n",
       "      <td>0.632653</td>\n",
       "      <td>0.760577</td>\n",
       "      <td>{'0.0': {'precision': 0.8980582524271845, 'recall': 0.925, 'f1-score': 0.9113300492610837, 'support': 200.0}, '1.0': {'precision': 0.6739130434782609, 'recall': 0.5961538461538461, 'f1-score': 0.6326530612244898, 'support': 52.0}, 'accuracy': 0.8571428571428571, 'macro avg': {'precision': 0.7859856479527227, 'recall': 0.760576923076923, 'f1-score': 0.7719915552427867, 'support': 252.0}, 'weighted avg': {'precision': 0.8518060664535971, 'recall': 0.8571428571428571, 'f1-score': 0.8538252739519453, 'support': 252.0}}</td>\n",
       "    </tr>\n",
       "    <tr>\n",
       "      <td>8</td>\n",
       "      <td>0.062200</td>\n",
       "      <td>0.441145</td>\n",
       "      <td>0.662722</td>\n",
       "      <td>0.855222</td>\n",
       "      <td>0.785714</td>\n",
       "      <td>0.606061</td>\n",
       "      <td>0.781352</td>\n",
       "      <td>{'0.0': {'precision': 0.9703389830508474, 'recall': 0.9744680851063829, 'f1-score': 0.9723991507430998, 'support': 235.0}, '1.0': {'precision': 0.625, 'recall': 0.5882352941176471, 'f1-score': 0.6060606060606061, 'support': 17.0}, 'accuracy': 0.9484126984126984, 'macro avg': {'precision': 0.7976694915254237, 'recall': 0.781351689612015, 'f1-score': 0.789229878401853, 'support': 252.0}, 'weighted avg': {'precision': 0.9470423056228141, 'recall': 0.9484126984126984, 'f1-score': 0.9476858362208681, 'support': 252.0}}</td>\n",
       "      <td>0.676471</td>\n",
       "      <td>0.847308</td>\n",
       "      <td>{'0.0': {'precision': 0.9642857142857143, 'recall': 0.81, 'f1-score': 0.8804347826086957, 'support': 200.0}, '1.0': {'precision': 0.5476190476190477, 'recall': 0.8846153846153846, 'f1-score': 0.6764705882352942, 'support': 52.0}, 'accuracy': 0.8253968253968254, 'macro avg': {'precision': 0.7559523809523809, 'recall': 0.8473076923076923, 'f1-score': 0.7784526854219949, 'support': 252.0}, 'weighted avg': {'precision': 0.8783068783068784, 'recall': 0.8253968253968254, 'f1-score': 0.838346932976089, 'support': 252.0}}</td>\n",
       "    </tr>\n",
       "    <tr>\n",
       "      <td>9</td>\n",
       "      <td>0.062200</td>\n",
       "      <td>0.379679</td>\n",
       "      <td>0.666667</td>\n",
       "      <td>0.811844</td>\n",
       "      <td>0.821429</td>\n",
       "      <td>0.533333</td>\n",
       "      <td>0.724656</td>\n",
       "      <td>{'0.0': {'precision': 0.9623430962343096, 'recall': 0.9787234042553191, 'f1-score': 0.9704641350210971, 'support': 235.0}, '1.0': {'precision': 0.6153846153846154, 'recall': 0.47058823529411764, 'f1-score': 0.5333333333333333, 'support': 17.0}, 'accuracy': 0.9444444444444444, 'macro avg': {'precision': 0.7888638558094625, 'recall': 0.7246558197747184, 'f1-score': 0.7518987341772152, 'support': 252.0}, 'weighted avg': {'precision': 0.9389371669706397, 'recall': 0.9444444444444444, 'f1-score': 0.9409751523675575, 'support': 252.0}}</td>\n",
       "      <td>0.702703</td>\n",
       "      <td>0.825000</td>\n",
       "      <td>{'0.0': {'precision': 0.9326424870466321, 'recall': 0.9, 'f1-score': 0.916030534351145, 'support': 200.0}, '1.0': {'precision': 0.6610169491525424, 'recall': 0.75, 'f1-score': 0.7027027027027027, 'support': 52.0}, 'accuracy': 0.8690476190476191, 'macro avg': {'precision': 0.7968297180995872, 'recall': 0.825, 'f1-score': 0.8093666185269239, 'support': 252.0}, 'weighted avg': {'precision': 0.8765927728780105, 'recall': 0.8690476190476191, 'f1-score': 0.8720105055982919, 'support': 252.0}}</td>\n",
       "    </tr>\n",
       "    <tr>\n",
       "      <td>10</td>\n",
       "      <td>0.039900</td>\n",
       "      <td>0.383758</td>\n",
       "      <td>0.680272</td>\n",
       "      <td>0.830135</td>\n",
       "      <td>0.825397</td>\n",
       "      <td>0.588235</td>\n",
       "      <td>0.779224</td>\n",
       "      <td>{'0.0': {'precision': 0.9702127659574468, 'recall': 0.9702127659574468, 'f1-score': 0.9702127659574468, 'support': 235.0}, '1.0': {'precision': 0.5882352941176471, 'recall': 0.5882352941176471, 'f1-score': 0.5882352941176471, 'support': 17.0}, 'accuracy': 0.9444444444444444, 'macro avg': {'precision': 0.7792240300375469, 'recall': 0.7792240300375469, 'f1-score': 0.7792240300375469, 'support': 252.0}, 'weighted avg': {'precision': 0.9444444444444444, 'recall': 0.9444444444444444, 'f1-score': 0.9444444444444444, 'support': 252.0}}</td>\n",
       "      <td>0.707965</td>\n",
       "      <td>0.832115</td>\n",
       "      <td>{'0.0': {'precision': 0.93717277486911, 'recall': 0.895, 'f1-score': 0.9156010230179028, 'support': 200.0}, '1.0': {'precision': 0.6557377049180327, 'recall': 0.7692307692307693, 'f1-score': 0.7079646017699115, 'support': 52.0}, 'accuracy': 0.8690476190476191, 'macro avg': {'precision': 0.7964552398935714, 'recall': 0.8321153846153846, 'f1-score': 0.8117828123939071, 'support': 252.0}, 'weighted avg': {'precision': 0.8790988715458719, 'recall': 0.8690476190476191, 'f1-score': 0.8727554122841903, 'support': 252.0}}</td>\n",
       "    </tr>\n",
       "    <tr>\n",
       "      <td>11</td>\n",
       "      <td>0.039900</td>\n",
       "      <td>0.470180</td>\n",
       "      <td>0.670732</td>\n",
       "      <td>0.852574</td>\n",
       "      <td>0.801587</td>\n",
       "      <td>0.540541</td>\n",
       "      <td>0.772841</td>\n",
       "      <td>{'0.0': {'precision': 0.9698275862068966, 'recall': 0.9574468085106383, 'f1-score': 0.9635974304068522, 'support': 235.0}, '1.0': {'precision': 0.5, 'recall': 0.5882352941176471, 'f1-score': 0.5405405405405406, 'support': 17.0}, 'accuracy': 0.9325396825396826, 'macro avg': {'precision': 0.7349137931034483, 'recall': 0.7728410513141427, 'f1-score': 0.7520689854736964, 'support': 252.0}, 'weighted avg': {'precision': 0.9381328680897647, 'recall': 0.9325396825396826, 'f1-score': 0.9350578783126963, 'support': 252.0}}</td>\n",
       "      <td>0.708661</td>\n",
       "      <td>0.857692</td>\n",
       "      <td>{'0.0': {'precision': 0.96045197740113, 'recall': 0.85, 'f1-score': 0.9018567639257294, 'support': 200.0}, '1.0': {'precision': 0.6, 'recall': 0.8653846153846154, 'f1-score': 0.7086614173228346, 'support': 52.0}, 'accuracy': 0.8531746031746031, 'macro avg': {'precision': 0.7802259887005649, 'recall': 0.8576923076923078, 'f1-score': 0.805259090624282, 'support': 252.0}, 'weighted avg': {'precision': 0.8860729979374047, 'recall': 0.8531746031746031, 'f1-score': 0.8619910574838623, 'support': 252.0}}</td>\n",
       "    </tr>\n",
       "    <tr>\n",
       "      <td>12</td>\n",
       "      <td>0.027900</td>\n",
       "      <td>0.454684</td>\n",
       "      <td>0.662420</td>\n",
       "      <td>0.835432</td>\n",
       "      <td>0.809524</td>\n",
       "      <td>0.578947</td>\n",
       "      <td>0.802253</td>\n",
       "      <td>{'0.0': {'precision': 0.974025974025974, 'recall': 0.9574468085106383, 'f1-score': 0.9656652360515021, 'support': 235.0}, '1.0': {'precision': 0.5238095238095238, 'recall': 0.6470588235294118, 'f1-score': 0.5789473684210527, 'support': 17.0}, 'accuracy': 0.9365079365079365, 'macro avg': {'precision': 0.748917748917749, 'recall': 0.8022528160200251, 'f1-score': 0.7723063022362774, 'support': 252.0}, 'weighted avg': {'precision': 0.943654229368515, 'recall': 0.9365079365079365, 'f1-score': 0.9395771259335749, 'support': 252.0}}</td>\n",
       "      <td>0.689076</td>\n",
       "      <td>0.829231</td>\n",
       "      <td>{'0.0': {'precision': 0.9405405405405406, 'recall': 0.87, 'f1-score': 0.9038961038961039, 'support': 200.0}, '1.0': {'precision': 0.6119402985074627, 'recall': 0.7884615384615384, 'f1-score': 0.6890756302521008, 'support': 52.0}, 'accuracy': 0.8531746031746031, 'macro avg': {'precision': 0.7762404195240016, 'recall': 0.8292307692307692, 'f1-score': 0.7964858670741024, 'support': 252.0}, 'weighted avg': {'precision': 0.8727341413908579, 'recall': 0.8531746031746031, 'f1-score': 0.8595680696521032, 'support': 252.0}}</td>\n",
       "    </tr>\n",
       "    <tr>\n",
       "      <td>13</td>\n",
       "      <td>0.027900</td>\n",
       "      <td>0.464719</td>\n",
       "      <td>0.637500</td>\n",
       "      <td>0.823588</td>\n",
       "      <td>0.793651</td>\n",
       "      <td>0.486486</td>\n",
       "      <td>0.741302</td>\n",
       "      <td>{'0.0': {'precision': 0.9655172413793104, 'recall': 0.9531914893617022, 'f1-score': 0.9593147751605996, 'support': 235.0}, '1.0': {'precision': 0.45, 'recall': 0.5294117647058824, 'f1-score': 0.4864864864864865, 'support': 17.0}, 'accuracy': 0.9246031746031746, 'macro avg': {'precision': 0.7077586206896552, 'recall': 0.7413016270337922, 'f1-score': 0.7229006308235431, 'support': 252.0}, 'weighted avg': {'precision': 0.930740284619595, 'recall': 0.9246031746031746, 'f1-score': 0.9274176287024252, 'support': 252.0}}</td>\n",
       "      <td>0.682927</td>\n",
       "      <td>0.831346</td>\n",
       "      <td>{'0.0': {'precision': 0.9447513812154696, 'recall': 0.855, 'f1-score': 0.8976377952755905, 'support': 200.0}, '1.0': {'precision': 0.5915492957746479, 'recall': 0.8076923076923077, 'f1-score': 0.6829268292682927, 'support': 52.0}, 'accuracy': 0.8452380952380952, 'macro avg': {'precision': 0.7681503384950588, 'recall': 0.8313461538461538, 'f1-score': 0.7902823122719416, 'support': 252.0}, 'weighted avg': {'precision': 0.8718684112038715, 'recall': 0.8452380952380952, 'f1-score': 0.8533323578455131, 'support': 252.0}}</td>\n",
       "    </tr>\n",
       "    <tr>\n",
       "      <td>14</td>\n",
       "      <td>0.018000</td>\n",
       "      <td>0.482035</td>\n",
       "      <td>0.637037</td>\n",
       "      <td>0.785157</td>\n",
       "      <td>0.813492</td>\n",
       "      <td>0.500000</td>\n",
       "      <td>0.697372</td>\n",
       "      <td>{'0.0': {'precision': 0.9585062240663901, 'recall': 0.9829787234042553, 'f1-score': 0.9705882352941176, 'support': 235.0}, '1.0': {'precision': 0.6363636363636364, 'recall': 0.4117647058823529, 'f1-score': 0.5, 'support': 17.0}, 'accuracy': 0.9444444444444444, 'macro avg': {'precision': 0.7974349302150132, 'recall': 0.697371714643304, 'f1-score': 0.7352941176470589, 'support': 252.0}, 'weighted avg': {'precision': 0.9367743828324742, 'recall': 0.9444444444444444, 'f1-score': 0.9388422035480859, 'support': 252.0}}</td>\n",
       "      <td>0.672897</td>\n",
       "      <td>0.798654</td>\n",
       "      <td>{'0.0': {'precision': 0.9187817258883249, 'recall': 0.905, 'f1-score': 0.9118387909319899, 'support': 200.0}, '1.0': {'precision': 0.6545454545454545, 'recall': 0.6923076923076923, 'f1-score': 0.6728971962616822, 'support': 52.0}, 'accuracy': 0.8611111111111112, 'macro avg': {'precision': 0.7866635902168897, 'recall': 0.7986538461538462, 'f1-score': 0.7923679935968361, 'support': 252.0}, 'weighted avg': {'precision': 0.86425678100805, 'recall': 0.8611111111111112, 'f1-score': 0.8625333825079582, 'support': 252.0}}</td>\n",
       "    </tr>\n",
       "    <tr>\n",
       "      <td>15</td>\n",
       "      <td>0.018000</td>\n",
       "      <td>0.484229</td>\n",
       "      <td>0.658385</td>\n",
       "      <td>0.839230</td>\n",
       "      <td>0.801587</td>\n",
       "      <td>0.555556</td>\n",
       "      <td>0.774969</td>\n",
       "      <td>{'0.0': {'precision': 0.9699570815450643, 'recall': 0.9617021276595744, 'f1-score': 0.9658119658119658, 'support': 235.0}, '1.0': {'precision': 0.5263157894736842, 'recall': 0.5882352941176471, 'f1-score': 0.5555555555555556, 'support': 17.0}, 'accuracy': 0.9365079365079365, 'macro avg': {'precision': 0.7481364355093743, 'recall': 0.7749687108886107, 'f1-score': 0.7606837606837606, 'support': 252.0}, 'weighted avg': {'precision': 0.9400288991434236, 'recall': 0.9365079365079365, 'f1-score': 0.9381359381359382, 'support': 252.0}}</td>\n",
       "      <td>0.688000</td>\n",
       "      <td>0.838462</td>\n",
       "      <td>{'0.0': {'precision': 0.9497206703910615, 'recall': 0.85, 'f1-score': 0.8970976253298153, 'support': 200.0}, '1.0': {'precision': 0.589041095890411, 'recall': 0.8269230769230769, 'f1-score': 0.688, 'support': 52.0}, 'accuracy': 0.8452380952380952, 'macro avg': {'precision': 0.7693808831407363, 'recall': 0.8384615384615384, 'f1-score': 0.7925488126649076, 'support': 252.0}, 'weighted avg': {'precision': 0.8752947264464829, 'recall': 0.8452380952380952, 'f1-score': 0.8539504962935043, 'support': 252.0}}</td>\n",
       "    </tr>\n",
       "    <tr>\n",
       "      <td>16</td>\n",
       "      <td>0.013100</td>\n",
       "      <td>0.478676</td>\n",
       "      <td>0.635762</td>\n",
       "      <td>0.808746</td>\n",
       "      <td>0.793651</td>\n",
       "      <td>0.536585</td>\n",
       "      <td>0.795870</td>\n",
       "      <td>{'0.0': {'precision': 0.9736842105263158, 'recall': 0.9446808510638298, 'f1-score': 0.958963282937365, 'support': 235.0}, '1.0': {'precision': 0.4583333333333333, 'recall': 0.6470588235294118, 'f1-score': 0.5365853658536586, 'support': 17.0}, 'accuracy': 0.9246031746031746, 'macro avg': {'precision': 0.7160087719298246, 'recall': 0.7958698372966209, 'f1-score': 0.7477743243955117, 'support': 252.0}, 'weighted avg': {'precision': 0.9389184767474241, 'recall': 0.9246031746031746, 'f1-score': 0.9304695345626705, 'support': 252.0}}</td>\n",
       "      <td>0.672727</td>\n",
       "      <td>0.803269</td>\n",
       "      <td>{'0.0': {'precision': 0.9226804123711341, 'recall': 0.895, 'f1-score': 0.9086294416243654, 'support': 200.0}, '1.0': {'precision': 0.6379310344827587, 'recall': 0.7115384615384616, 'f1-score': 0.6727272727272727, 'support': 52.0}, 'accuracy': 0.8571428571428571, 'macro avg': {'precision': 0.7803057234269464, 'recall': 0.8032692307692308, 'f1-score': 0.7906783571758191, 'support': 252.0}, 'weighted avg': {'precision': 0.8639226042354377, 'recall': 0.8571428571428571, 'f1-score': 0.859951216296394, 'support': 252.0}}</td>\n",
       "    </tr>\n",
       "    <tr>\n",
       "      <td>17</td>\n",
       "      <td>0.013100</td>\n",
       "      <td>0.495168</td>\n",
       "      <td>0.631579</td>\n",
       "      <td>0.807596</td>\n",
       "      <td>0.801587</td>\n",
       "      <td>0.470588</td>\n",
       "      <td>0.716145</td>\n",
       "      <td>{'0.0': {'precision': 0.9617021276595744, 'recall': 0.9617021276595744, 'f1-score': 0.9617021276595744, 'support': 235.0}, '1.0': {'precision': 0.47058823529411764, 'recall': 0.47058823529411764, 'f1-score': 0.47058823529411764, 'support': 17.0}, 'accuracy': 0.9285714285714286, 'macro avg': {'precision': 0.716145181476846, 'recall': 0.716145181476846, 'f1-score': 0.716145181476846, 'support': 252.0}, 'weighted avg': {'precision': 0.9285714285714286, 'recall': 0.9285714285714286, 'f1-score': 0.9285714285714286, 'support': 252.0}}</td>\n",
       "      <td>0.677966</td>\n",
       "      <td>0.819615</td>\n",
       "      <td>{'0.0': {'precision': 0.9354838709677419, 'recall': 0.87, 'f1-score': 0.9015544041450777, 'support': 200.0}, '1.0': {'precision': 0.6060606060606061, 'recall': 0.7692307692307693, 'f1-score': 0.6779661016949152, 'support': 52.0}, 'accuracy': 0.8492063492063492, 'macro avg': {'precision': 0.770772238514174, 'recall': 0.8196153846153846, 'f1-score': 0.7897602529199965, 'support': 252.0}, 'weighted avg': {'precision': 0.8675076417011901, 'recall': 0.8492063492063492, 'f1-score': 0.8554171353855203, 'support': 252.0}}</td>\n",
       "    </tr>\n",
       "    <tr>\n",
       "      <td>18</td>\n",
       "      <td>0.006900</td>\n",
       "      <td>0.513312</td>\n",
       "      <td>0.636943</td>\n",
       "      <td>0.818641</td>\n",
       "      <td>0.793651</td>\n",
       "      <td>0.473684</td>\n",
       "      <td>0.739174</td>\n",
       "      <td>{'0.0': {'precision': 0.9653679653679653, 'recall': 0.948936170212766, 'f1-score': 0.9570815450643777, 'support': 235.0}, '1.0': {'precision': 0.42857142857142855, 'recall': 0.5294117647058824, 'f1-score': 0.47368421052631576, 'support': 17.0}, 'accuracy': 0.9206349206349206, 'macro avg': {'precision': 0.6969696969696969, 'recall': 0.7391739674593242, 'f1-score': 0.7153828777953467, 'support': 252.0}, 'weighted avg': {'precision': 0.9291555005840719, 'recall': 0.9206349206349206, 'f1-score': 0.9244714074169688, 'support': 252.0}}</td>\n",
       "      <td>0.689076</td>\n",
       "      <td>0.829231</td>\n",
       "      <td>{'0.0': {'precision': 0.9405405405405406, 'recall': 0.87, 'f1-score': 0.9038961038961039, 'support': 200.0}, '1.0': {'precision': 0.6119402985074627, 'recall': 0.7884615384615384, 'f1-score': 0.6890756302521008, 'support': 52.0}, 'accuracy': 0.8531746031746031, 'macro avg': {'precision': 0.7762404195240016, 'recall': 0.8292307692307692, 'f1-score': 0.7964858670741024, 'support': 252.0}, 'weighted avg': {'precision': 0.8727341413908579, 'recall': 0.8531746031746031, 'f1-score': 0.8595680696521032, 'support': 252.0}}</td>\n",
       "    </tr>\n",
       "    <tr>\n",
       "      <td>19</td>\n",
       "      <td>0.006900</td>\n",
       "      <td>0.514085</td>\n",
       "      <td>0.632258</td>\n",
       "      <td>0.812544</td>\n",
       "      <td>0.797619</td>\n",
       "      <td>0.444444</td>\n",
       "      <td>0.711890</td>\n",
       "      <td>{'0.0': {'precision': 0.9613733905579399, 'recall': 0.9531914893617022, 'f1-score': 0.9572649572649573, 'support': 235.0}, '1.0': {'precision': 0.42105263157894735, 'recall': 0.47058823529411764, 'f1-score': 0.4444444444444444, 'support': 17.0}, 'accuracy': 0.9206349206349206, 'macro avg': {'precision': 0.6912130110684436, 'recall': 0.71188986232791, 'f1-score': 0.7008547008547008, 'support': 252.0}, 'weighted avg': {'precision': 0.9249231806268174, 'recall': 0.9206349206349206, 'f1-score': 0.9226699226699226, 'support': 252.0}}</td>\n",
       "      <td>0.689076</td>\n",
       "      <td>0.829231</td>\n",
       "      <td>{'0.0': {'precision': 0.9405405405405406, 'recall': 0.87, 'f1-score': 0.9038961038961039, 'support': 200.0}, '1.0': {'precision': 0.6119402985074627, 'recall': 0.7884615384615384, 'f1-score': 0.6890756302521008, 'support': 52.0}, 'accuracy': 0.8531746031746031, 'macro avg': {'precision': 0.7762404195240016, 'recall': 0.8292307692307692, 'f1-score': 0.7964858670741024, 'support': 252.0}, 'weighted avg': {'precision': 0.8727341413908579, 'recall': 0.8531746031746031, 'f1-score': 0.8595680696521032, 'support': 252.0}}</td>\n",
       "    </tr>\n",
       "    <tr>\n",
       "      <td>20</td>\n",
       "      <td>0.007500</td>\n",
       "      <td>0.510405</td>\n",
       "      <td>0.636364</td>\n",
       "      <td>0.813693</td>\n",
       "      <td>0.797619</td>\n",
       "      <td>0.444444</td>\n",
       "      <td>0.711890</td>\n",
       "      <td>{'0.0': {'precision': 0.9613733905579399, 'recall': 0.9531914893617022, 'f1-score': 0.9572649572649573, 'support': 235.0}, '1.0': {'precision': 0.42105263157894735, 'recall': 0.47058823529411764, 'f1-score': 0.4444444444444444, 'support': 17.0}, 'accuracy': 0.9206349206349206, 'macro avg': {'precision': 0.6912130110684436, 'recall': 0.71188986232791, 'f1-score': 0.7008547008547008, 'support': 252.0}, 'weighted avg': {'precision': 0.9249231806268174, 'recall': 0.9206349206349206, 'f1-score': 0.9226699226699226, 'support': 252.0}}</td>\n",
       "      <td>0.694915</td>\n",
       "      <td>0.831731</td>\n",
       "      <td>{'0.0': {'precision': 0.9408602150537635, 'recall': 0.875, 'f1-score': 0.9067357512953368, 'support': 200.0}, '1.0': {'precision': 0.6212121212121212, 'recall': 0.7884615384615384, 'f1-score': 0.6949152542372882, 'support': 52.0}, 'accuracy': 0.8571428571428571, 'macro avg': {'precision': 0.7810361681329423, 'recall': 0.8317307692307692, 'f1-score': 0.8008255027663125, 'support': 252.0}, 'weighted avg': {'precision': 0.874901084578504, 'recall': 0.8571428571428571, 'f1-score': 0.8630267598389141, 'support': 252.0}}</td>\n",
       "    </tr>\n",
       "  </tbody>\n",
       "</table><p>"
      ],
      "text/plain": [
       "<IPython.core.display.HTML object>"
      ]
     },
     "metadata": {},
     "output_type": "display_data"
    },
    {
     "data": {
      "text/plain": [
       "TrainOutput(global_step=5040, training_loss=0.08106707925834353, metrics={'train_runtime': 415.7248, 'train_samples_per_second': 48.494, 'train_steps_per_second': 12.123, 'total_flos': 667635689226240.0, 'train_loss': 0.08106707925834353, 'epoch': 20.0})"
      ]
     },
     "execution_count": 21,
     "metadata": {},
     "output_type": "execute_result"
    }
   ],
   "source": [
    "trainer.train()"
   ]
  },
  {
   "cell_type": "markdown",
   "metadata": {
    "id": "hiloh9eMK91o"
   },
   "source": [
    "## Evaluate\n",
    "\n",
    "After training, we evaluate our model on the validation set."
   ]
  },
  {
   "cell_type": "code",
   "execution_count": 22,
   "metadata": {
    "colab": {
     "base_uri": "https://localhost:8080/",
     "height": 224
    },
    "id": "cMlebJ83LRYG",
    "outputId": "b18102e7-2198-4beb-c874-d39636f740ed"
   },
   "outputs": [
    {
     "data": {
      "text/html": [
       "\n",
       "    <div>\n",
       "      \n",
       "      <progress value='63' max='63' style='width:300px; height:20px; vertical-align: middle;'></progress>\n",
       "      [63/63 00:00]\n",
       "    </div>\n",
       "    "
      ],
      "text/plain": [
       "<IPython.core.display.HTML object>"
      ]
     },
     "metadata": {},
     "output_type": "display_data"
    },
    {
     "name": "stdout",
     "output_type": "stream",
     "text": [
      "{'eval_loss': 0.38375845551490784, 'eval_f1': 0.6802721088435374, 'eval_roc_auc': 0.8301349325337332, 'eval_accuracy': 0.8253968253968254, 'eval_f1_label_cyber_label': 0.5882352941176471, 'eval_roc_auc_label_cyber_label': 0.7792240300375469, 'eval_classification_report_label_cyber_label': {'0.0': {'precision': 0.9702127659574468, 'recall': 0.9702127659574468, 'f1-score': 0.9702127659574468, 'support': 235.0}, '1.0': {'precision': 0.5882352941176471, 'recall': 0.5882352941176471, 'f1-score': 0.5882352941176471, 'support': 17.0}, 'accuracy': 0.9444444444444444, 'macro avg': {'precision': 0.7792240300375469, 'recall': 0.7792240300375469, 'f1-score': 0.7792240300375469, 'support': 252.0}, 'weighted avg': {'precision': 0.9444444444444444, 'recall': 0.9444444444444444, 'f1-score': 0.9444444444444444, 'support': 252.0}}, 'eval_f1_label_environmental_issue': 0.7079646017699115, 'eval_roc_auc_label_environmental_issue': 0.8321153846153846, 'eval_classification_report_label_environmental_issue': {'0.0': {'precision': 0.93717277486911, 'recall': 0.895, 'f1-score': 0.9156010230179028, 'support': 200.0}, '1.0': {'precision': 0.6557377049180327, 'recall': 0.7692307692307693, 'f1-score': 0.7079646017699115, 'support': 52.0}, 'accuracy': 0.8690476190476191, 'macro avg': {'precision': 0.7964552398935714, 'recall': 0.8321153846153846, 'f1-score': 0.8117828123939071, 'support': 252.0}, 'weighted avg': {'precision': 0.8790988715458719, 'recall': 0.8690476190476191, 'f1-score': 0.8727554122841903, 'support': 252.0}}, 'eval_runtime': 0.9366, 'eval_samples_per_second': 269.063, 'eval_steps_per_second': 67.266, 'epoch': 20.0}\n"
     ]
    }
   ],
   "source": [
    "scores = trainer.evaluate()"
   ]
  },
  {
   "cell_type": "code",
   "execution_count": 27,
   "metadata": {},
   "outputs": [
    {
     "data": {
      "text/plain": [
       "{'eval_loss': 0.38375845551490784,\n",
       " 'eval_f1': 0.6802721088435374,\n",
       " 'eval_roc_auc': 0.8301349325337332,\n",
       " 'eval_accuracy': 0.8253968253968254,\n",
       " 'eval_f1_label_cyber_label': 0.5882352941176471,\n",
       " 'eval_roc_auc_label_cyber_label': 0.7792240300375469,\n",
       " 'eval_classification_report_label_cyber_label': {'0.0': {'precision': 0.9702127659574468,\n",
       "   'recall': 0.9702127659574468,\n",
       "   'f1-score': 0.9702127659574468,\n",
       "   'support': 235.0},\n",
       "  '1.0': {'precision': 0.5882352941176471,\n",
       "   'recall': 0.5882352941176471,\n",
       "   'f1-score': 0.5882352941176471,\n",
       "   'support': 17.0},\n",
       "  'accuracy': 0.9444444444444444,\n",
       "  'macro avg': {'precision': 0.7792240300375469,\n",
       "   'recall': 0.7792240300375469,\n",
       "   'f1-score': 0.7792240300375469,\n",
       "   'support': 252.0},\n",
       "  'weighted avg': {'precision': 0.9444444444444444,\n",
       "   'recall': 0.9444444444444444,\n",
       "   'f1-score': 0.9444444444444444,\n",
       "   'support': 252.0}},\n",
       " 'eval_f1_label_environmental_issue': 0.7079646017699115,\n",
       " 'eval_roc_auc_label_environmental_issue': 0.8321153846153846,\n",
       " 'eval_classification_report_label_environmental_issue': {'0.0': {'precision': 0.93717277486911,\n",
       "   'recall': 0.895,\n",
       "   'f1-score': 0.9156010230179028,\n",
       "   'support': 200.0},\n",
       "  '1.0': {'precision': 0.6557377049180327,\n",
       "   'recall': 0.7692307692307693,\n",
       "   'f1-score': 0.7079646017699115,\n",
       "   'support': 52.0},\n",
       "  'accuracy': 0.8690476190476191,\n",
       "  'macro avg': {'precision': 0.7964552398935714,\n",
       "   'recall': 0.8321153846153846,\n",
       "   'f1-score': 0.8117828123939071,\n",
       "   'support': 252.0},\n",
       "  'weighted avg': {'precision': 0.8790988715458719,\n",
       "   'recall': 0.8690476190476191,\n",
       "   'f1-score': 0.8727554122841903,\n",
       "   'support': 252.0}},\n",
       " 'eval_runtime': 0.9366,\n",
       " 'eval_samples_per_second': 269.063,\n",
       " 'eval_steps_per_second': 67.266,\n",
       " 'epoch': 20.0}"
      ]
     },
     "execution_count": 27,
     "metadata": {},
     "output_type": "execute_result"
    }
   ],
   "source": [
    "scores"
   ]
  },
  {
   "cell_type": "markdown",
   "metadata": {
    "id": "3nmvJp0pLq-3"
   },
   "source": [
    "## Inference\n",
    "\n",
    "Let's test the model on a new sentence:"
   ]
  },
  {
   "cell_type": "code",
   "execution_count": 24,
   "metadata": {
    "id": "3fxjfr8PLD42"
   },
   "outputs": [],
   "source": [
    "text = \"I'm happy I can finally train a model for multi-label classification\"\n",
    "\n",
    "encoding = tokenizer(text, return_tensors=\"pt\")\n",
    "encoding = {k: v.to(trainer.model.device) for k,v in encoding.items()}\n",
    "\n",
    "outputs = trainer.model(**encoding)"
   ]
  },
  {
   "cell_type": "markdown",
   "metadata": {
    "id": "8THm5-XgNHPm"
   },
   "source": [
    "The logits that come out of the model are of shape (batch_size, num_labels). As we are only forwarding a single sentence through the model, the `batch_size` equals 1. The logits is a tensor that contains the (unnormalized) scores for every individual label."
   ]
  },
  {
   "cell_type": "code",
   "execution_count": null,
   "metadata": {},
   "outputs": [],
   "source": [
    "logits = outputs.logits\n",
    "# apply sigmoid + threshold\n",
    "sigmoid = torch.nn.Sigmoid()\n",
    "probs = sigmoid(logits.squeeze().cpu())\n",
    "predictions = np.zeros(probs.shape)\n",
    "predictions[np.where(probs >= 0.5)] = 1\n",
    "# turn predicted id's into actual label names\n",
    "predicted_labels = [id2label[idx] for idx, label in enumerate(predictions) if label == 1.0]\n",
    "print(predicted_labels)"
   ]
  }
 ],
 "metadata": {
  "accelerator": "GPU",
  "colab": {
   "name": "Fine-tuning BERT (and friends) for multi-label text classification.ipynb",
   "provenance": []
  },
  "kernelspec": {
   "display_name": "Python 3 (ipykernel)",
   "language": "python",
   "name": "python3"
  },
  "language_info": {
   "codemirror_mode": {
    "name": "ipython",
    "version": 3
   },
   "file_extension": ".py",
   "mimetype": "text/x-python",
   "name": "python",
   "nbconvert_exporter": "python",
   "pygments_lexer": "ipython3",
   "version": "3.11.8"
  },
  "widgets": {
   "application/vnd.jupyter.widget-state+json": {
    "091f8220f33241f288faa0612853585f": {
     "model_module": "@jupyter-widgets/controls",
     "model_module_version": "1.5.0",
     "model_name": "FloatProgressModel",
     "state": {
      "_dom_classes": [],
      "_model_module": "@jupyter-widgets/controls",
      "_model_module_version": "1.5.0",
      "_model_name": "FloatProgressModel",
      "_view_count": null,
      "_view_module": "@jupyter-widgets/controls",
      "_view_module_version": "1.5.0",
      "_view_name": "ProgressView",
      "bar_style": "success",
      "description": "",
      "description_tooltip": null,
      "layout": "IPY_MODEL_6111a73e684a47769bda7183a836ee91",
      "max": 3,
      "min": 0,
      "orientation": "horizontal",
      "style": "IPY_MODEL_8b1899a0c4b144d7a5e6599f8afb8b65",
      "value": 3
     }
    },
    "1045bb16e3694410898a73cf1b848917": {
     "model_module": "@jupyter-widgets/controls",
     "model_module_version": "1.5.0",
     "model_name": "HTMLModel",
     "state": {
      "_dom_classes": [],
      "_model_module": "@jupyter-widgets/controls",
      "_model_module_version": "1.5.0",
      "_model_name": "HTMLModel",
      "_view_count": null,
      "_view_module": "@jupyter-widgets/controls",
      "_view_module_version": "1.5.0",
      "_view_name": "HTMLView",
      "description": "",
      "description_tooltip": null,
      "layout": "IPY_MODEL_bbba60f793c14100934a268063f63d26",
      "placeholder": "​",
      "style": "IPY_MODEL_cd3570ddf67541d7818d97e236c54e54",
      "value": " 3/3 [00:00&lt;00:00, 75.93it/s]"
     }
    },
    "308fa6a7348140ec981a8d6c7d31f346": {
     "model_module": "@jupyter-widgets/base",
     "model_module_version": "1.2.0",
     "model_name": "LayoutModel",
     "state": {
      "_model_module": "@jupyter-widgets/base",
      "_model_module_version": "1.2.0",
      "_model_name": "LayoutModel",
      "_view_count": null,
      "_view_module": "@jupyter-widgets/base",
      "_view_module_version": "1.2.0",
      "_view_name": "LayoutView",
      "align_content": null,
      "align_items": null,
      "align_self": null,
      "border": null,
      "bottom": null,
      "display": null,
      "flex": null,
      "flex_flow": null,
      "grid_area": null,
      "grid_auto_columns": null,
      "grid_auto_flow": null,
      "grid_auto_rows": null,
      "grid_column": null,
      "grid_gap": null,
      "grid_row": null,
      "grid_template_areas": null,
      "grid_template_columns": null,
      "grid_template_rows": null,
      "height": null,
      "justify_content": null,
      "justify_items": null,
      "left": null,
      "margin": null,
      "max_height": null,
      "max_width": null,
      "min_height": null,
      "min_width": null,
      "object_fit": null,
      "object_position": null,
      "order": null,
      "overflow": null,
      "overflow_x": null,
      "overflow_y": null,
      "padding": null,
      "right": null,
      "top": null,
      "visibility": null,
      "width": null
     }
    },
    "5080d322a8034924b652b379c04667ed": {
     "model_module": "@jupyter-widgets/base",
     "model_module_version": "1.2.0",
     "model_name": "LayoutModel",
     "state": {
      "_model_module": "@jupyter-widgets/base",
      "_model_module_version": "1.2.0",
      "_model_name": "LayoutModel",
      "_view_count": null,
      "_view_module": "@jupyter-widgets/base",
      "_view_module_version": "1.2.0",
      "_view_name": "LayoutView",
      "align_content": null,
      "align_items": null,
      "align_self": null,
      "border": null,
      "bottom": null,
      "display": null,
      "flex": null,
      "flex_flow": null,
      "grid_area": null,
      "grid_auto_columns": null,
      "grid_auto_flow": null,
      "grid_auto_rows": null,
      "grid_column": null,
      "grid_gap": null,
      "grid_row": null,
      "grid_template_areas": null,
      "grid_template_columns": null,
      "grid_template_rows": null,
      "height": null,
      "justify_content": null,
      "justify_items": null,
      "left": null,
      "margin": null,
      "max_height": null,
      "max_width": null,
      "min_height": null,
      "min_width": null,
      "object_fit": null,
      "object_position": null,
      "order": null,
      "overflow": null,
      "overflow_x": null,
      "overflow_y": null,
      "padding": null,
      "right": null,
      "top": null,
      "visibility": null,
      "width": null
     }
    },
    "6111a73e684a47769bda7183a836ee91": {
     "model_module": "@jupyter-widgets/base",
     "model_module_version": "1.2.0",
     "model_name": "LayoutModel",
     "state": {
      "_model_module": "@jupyter-widgets/base",
      "_model_module_version": "1.2.0",
      "_model_name": "LayoutModel",
      "_view_count": null,
      "_view_module": "@jupyter-widgets/base",
      "_view_module_version": "1.2.0",
      "_view_name": "LayoutView",
      "align_content": null,
      "align_items": null,
      "align_self": null,
      "border": null,
      "bottom": null,
      "display": null,
      "flex": null,
      "flex_flow": null,
      "grid_area": null,
      "grid_auto_columns": null,
      "grid_auto_flow": null,
      "grid_auto_rows": null,
      "grid_column": null,
      "grid_gap": null,
      "grid_row": null,
      "grid_template_areas": null,
      "grid_template_columns": null,
      "grid_template_rows": null,
      "height": null,
      "justify_content": null,
      "justify_items": null,
      "left": null,
      "margin": null,
      "max_height": null,
      "max_width": null,
      "min_height": null,
      "min_width": null,
      "object_fit": null,
      "object_position": null,
      "order": null,
      "overflow": null,
      "overflow_x": null,
      "overflow_y": null,
      "padding": null,
      "right": null,
      "top": null,
      "visibility": null,
      "width": null
     }
    },
    "8b1899a0c4b144d7a5e6599f8afb8b65": {
     "model_module": "@jupyter-widgets/controls",
     "model_module_version": "1.5.0",
     "model_name": "ProgressStyleModel",
     "state": {
      "_model_module": "@jupyter-widgets/controls",
      "_model_module_version": "1.5.0",
      "_model_name": "ProgressStyleModel",
      "_view_count": null,
      "_view_module": "@jupyter-widgets/base",
      "_view_module_version": "1.2.0",
      "_view_name": "StyleView",
      "bar_color": null,
      "description_width": ""
     }
    },
    "8bc92587e35443488445e7521fbd0a13": {
     "model_module": "@jupyter-widgets/controls",
     "model_module_version": "1.5.0",
     "model_name": "HTMLModel",
     "state": {
      "_dom_classes": [],
      "_model_module": "@jupyter-widgets/controls",
      "_model_module_version": "1.5.0",
      "_model_name": "HTMLModel",
      "_view_count": null,
      "_view_module": "@jupyter-widgets/controls",
      "_view_module_version": "1.5.0",
      "_view_name": "HTMLView",
      "description": "",
      "description_tooltip": null,
      "layout": "IPY_MODEL_5080d322a8034924b652b379c04667ed",
      "placeholder": "​",
      "style": "IPY_MODEL_cb95e545fbdd4e99903bf634df694c9f",
      "value": "100%"
     }
    },
    "9a1aa9f2cc29473f9f8e5459d2641e76": {
     "model_module": "@jupyter-widgets/controls",
     "model_module_version": "1.5.0",
     "model_name": "HBoxModel",
     "state": {
      "_dom_classes": [],
      "_model_module": "@jupyter-widgets/controls",
      "_model_module_version": "1.5.0",
      "_model_name": "HBoxModel",
      "_view_count": null,
      "_view_module": "@jupyter-widgets/controls",
      "_view_module_version": "1.5.0",
      "_view_name": "HBoxView",
      "box_style": "",
      "children": [
       "IPY_MODEL_8bc92587e35443488445e7521fbd0a13",
       "IPY_MODEL_091f8220f33241f288faa0612853585f",
       "IPY_MODEL_1045bb16e3694410898a73cf1b848917"
      ],
      "layout": "IPY_MODEL_308fa6a7348140ec981a8d6c7d31f346"
     }
    },
    "bbba60f793c14100934a268063f63d26": {
     "model_module": "@jupyter-widgets/base",
     "model_module_version": "1.2.0",
     "model_name": "LayoutModel",
     "state": {
      "_model_module": "@jupyter-widgets/base",
      "_model_module_version": "1.2.0",
      "_model_name": "LayoutModel",
      "_view_count": null,
      "_view_module": "@jupyter-widgets/base",
      "_view_module_version": "1.2.0",
      "_view_name": "LayoutView",
      "align_content": null,
      "align_items": null,
      "align_self": null,
      "border": null,
      "bottom": null,
      "display": null,
      "flex": null,
      "flex_flow": null,
      "grid_area": null,
      "grid_auto_columns": null,
      "grid_auto_flow": null,
      "grid_auto_rows": null,
      "grid_column": null,
      "grid_gap": null,
      "grid_row": null,
      "grid_template_areas": null,
      "grid_template_columns": null,
      "grid_template_rows": null,
      "height": null,
      "justify_content": null,
      "justify_items": null,
      "left": null,
      "margin": null,
      "max_height": null,
      "max_width": null,
      "min_height": null,
      "min_width": null,
      "object_fit": null,
      "object_position": null,
      "order": null,
      "overflow": null,
      "overflow_x": null,
      "overflow_y": null,
      "padding": null,
      "right": null,
      "top": null,
      "visibility": null,
      "width": null
     }
    },
    "cb95e545fbdd4e99903bf634df694c9f": {
     "model_module": "@jupyter-widgets/controls",
     "model_module_version": "1.5.0",
     "model_name": "DescriptionStyleModel",
     "state": {
      "_model_module": "@jupyter-widgets/controls",
      "_model_module_version": "1.5.0",
      "_model_name": "DescriptionStyleModel",
      "_view_count": null,
      "_view_module": "@jupyter-widgets/base",
      "_view_module_version": "1.2.0",
      "_view_name": "StyleView",
      "description_width": ""
     }
    },
    "cd3570ddf67541d7818d97e236c54e54": {
     "model_module": "@jupyter-widgets/controls",
     "model_module_version": "1.5.0",
     "model_name": "DescriptionStyleModel",
     "state": {
      "_model_module": "@jupyter-widgets/controls",
      "_model_module_version": "1.5.0",
      "_model_name": "DescriptionStyleModel",
      "_view_count": null,
      "_view_module": "@jupyter-widgets/base",
      "_view_module_version": "1.2.0",
      "_view_name": "StyleView",
      "description_width": ""
     }
    }
   }
  }
 },
 "nbformat": 4,
 "nbformat_minor": 4
}
